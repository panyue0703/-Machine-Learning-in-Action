{
 "cells": [
  {
   "cell_type": "code",
   "execution_count": 1,
   "metadata": {},
   "outputs": [],
   "source": [
    "import numpy as np"
   ]
  },
  {
   "cell_type": "markdown",
   "metadata": {},
   "source": [
    "# 条件概率\n",
    "\\begin{equation}\n",
    "p(c|x)= \\frac{p(x|c)*p(c)}{p(x)}\n",
    "\\end{equation}"
   ]
  },
  {
   "cell_type": "code",
   "execution_count": 2,
   "metadata": {},
   "outputs": [],
   "source": [
    "#创建数据\n",
    "def loadDataSet():\n",
    "    postingList=[['my', 'dog', 'has', 'flea', 'problems', 'help', 'please'],\n",
    "                 ['maybe', 'not', 'take', 'him', 'to', 'dog', 'park', 'stupid'],\n",
    "                 ['my', 'dalmation', 'is', 'so', 'cute', 'I', 'love', 'him'],\n",
    "                 ['stop', 'posting', 'stupid', 'worthless', 'garbage'],\n",
    "                 ['mr', 'licks', 'ate', 'my', 'steak', 'how', 'to', 'stop', 'him'],\n",
    "                 ['quit', 'buying', 'worthless', 'dog', 'food', 'stupid']]\n",
    "    classVec = [0,1,0,1,0,1]    #1 is abusive, 0 not\n",
    "    return postingList,classVec"
   ]
  },
  {
   "cell_type": "code",
   "execution_count": 3,
   "metadata": {},
   "outputs": [
    {
     "name": "stdout",
     "output_type": "stream",
     "text": [
      "[['my', 'dog', 'has', 'flea', 'problems', 'help', 'please'], ['maybe', 'not', 'take', 'him', 'to', 'dog', 'park', 'stupid'], ['my', 'dalmation', 'is', 'so', 'cute', 'I', 'love', 'him'], ['stop', 'posting', 'stupid', 'worthless', 'garbage'], ['mr', 'licks', 'ate', 'my', 'steak', 'how', 'to', 'stop', 'him'], ['quit', 'buying', 'worthless', 'dog', 'food', 'stupid']]\n"
     ]
    }
   ],
   "source": [
    "listOfPosts,listClasses = loadDataSet()\n",
    "print(listOfPosts)"
   ]
  },
  {
   "cell_type": "code",
   "execution_count": 4,
   "metadata": {},
   "outputs": [],
   "source": [
    "#创建数据集的词汇表集合(无重复词汇)\n",
    "def createVocabList(dataSet):\n",
    "    vocabSet = set([])\n",
    "    for document in dataSet:\n",
    "        vocabSet = vocabSet | set(document)\n",
    "        #print(vocabSet)\n",
    "    return list(vocabSet)"
   ]
  },
  {
   "cell_type": "code",
   "execution_count": 5,
   "metadata": {},
   "outputs": [
    {
     "name": "stdout",
     "output_type": "stream",
     "text": [
      "['has', 'please', 'steak', 'licks', 'I', 'stupid', 'my', 'park', 'maybe', 'how', 'help', 'food', 'ate', 'so', 'him', 'posting', 'cute', 'buying', 'quit', 'garbage', 'flea', 'take', 'stop', 'dog', 'mr', 'love', 'is', 'dalmation', 'not', 'worthless', 'problems', 'to']\n"
     ]
    }
   ],
   "source": [
    "myVocabList = createVocabList(listOfPosts)\n",
    "print(myVocabList)"
   ]
  },
  {
   "cell_type": "code",
   "execution_count": 6,
   "metadata": {},
   "outputs": [],
   "source": [
    "'''\n",
    "func:词汇集合转换为向量\n",
    "vocabList: 训练集的词汇集合\n",
    "inputSet: 待测试的文本\n",
    "\n",
    "return: 待测文本，相对训练集的向量\n",
    "'''\n",
    "def setOfWord2Vec(vocabList, inputSet):\n",
    "    returnVec = [0]*len(vocabList)\n",
    "    #print(returnVec)\n",
    "    for word in inputSet:\n",
    "        if word in vocabList:\n",
    "            returnVec[vocabList.index(word)] = 1\n",
    "        else:\n",
    "            print(\"the word:{} is not in my Vocabulary\".format(word))\n",
    "    \n",
    "    return returnVec"
   ]
  },
  {
   "cell_type": "code",
   "execution_count": 7,
   "metadata": {},
   "outputs": [
    {
     "name": "stdout",
     "output_type": "stream",
     "text": [
      "[1, 1, 0, 0, 0, 0, 1, 0, 0, 0, 1, 0, 0, 0, 0, 0, 0, 0, 0, 0, 1, 0, 0, 1, 0, 0, 0, 0, 0, 0, 1, 0]\n"
     ]
    }
   ],
   "source": [
    "a=setOfWord2Vec(myVocabList,listOfPosts[0])\n",
    "print(a)"
   ]
  },
  {
   "cell_type": "code",
   "execution_count": 8,
   "metadata": {},
   "outputs": [],
   "source": [
    "'''\n",
    "func:朴素贝叶斯算法训练\n",
    "\n",
    "trainMatrix: 训练数据的向量集\n",
    "trainCategory: 训练数据的分类向量\n",
    "\n",
    "return: \n",
    "p1Vect：标签1条件下，特征向量，各个特征值的条件概率\n",
    "p0Vect：标签0条件下，特征向量，各个特征值的条件概率\n",
    "pAbusive：标签1的概率\n",
    "'''\n",
    "def trainNB0(trainMatrix, trainCategory):\n",
    "    numTrainDocs = len(trainMatrix)\n",
    "    numWord = len(trainMatrix[0])\n",
    "    pAbusive = sum(trainCategory)/float(numTrainDocs)\n",
    "    p0Num = np.ones(numWord);\n",
    "    p1Num = np.ones(numWord)\n",
    "    #print('p0Num',p0Num)\n",
    "    p0Denom = 2.\n",
    "    p1Denom = 2\n",
    "    \n",
    "    for i in range(numTrainDocs):\n",
    "        if trainCategory[i] == 1:\n",
    "            p1Num += trainMatrix[i]\n",
    "            p1Denom += sum(trainMatrix[i])\n",
    "        else:\n",
    "            p0Num += trainMatrix[i]\n",
    "            p0Denom += sum(trainMatrix[i])\n",
    "    p1Vect = np.log(p1Num/p1Denom)\n",
    "    p0Vect = np.log(p0Num/p0Denom)\n",
    "    \n",
    "    return p0Vect,p1Vect,pAbusive"
   ]
  },
  {
   "cell_type": "code",
   "execution_count": 9,
   "metadata": {},
   "outputs": [],
   "source": [
    "listOfPosts,listClasses = loadDataSet()"
   ]
  },
  {
   "cell_type": "code",
   "execution_count": 10,
   "metadata": {},
   "outputs": [
    {
     "name": "stdout",
     "output_type": "stream",
     "text": [
      "['has', 'please', 'steak', 'licks', 'I', 'stupid', 'my', 'park', 'maybe', 'how', 'help', 'food', 'ate', 'so', 'him', 'posting', 'cute', 'buying', 'quit', 'garbage', 'flea', 'take', 'stop', 'dog', 'mr', 'love', 'is', 'dalmation', 'not', 'worthless', 'problems', 'to']\n"
     ]
    }
   ],
   "source": [
    "myVocabList = createVocabList(listOfPosts)\n",
    "print(myVocabList)"
   ]
  },
  {
   "cell_type": "code",
   "execution_count": 11,
   "metadata": {},
   "outputs": [
    {
     "name": "stdout",
     "output_type": "stream",
     "text": [
      "[[1, 1, 0, 0, 0, 0, 1, 0, 0, 0, 1, 0, 0, 0, 0, 0, 0, 0, 0, 0, 1, 0, 0, 1, 0, 0, 0, 0, 0, 0, 1, 0], [0, 0, 0, 0, 0, 1, 0, 1, 1, 0, 0, 0, 0, 0, 1, 0, 0, 0, 0, 0, 0, 1, 0, 1, 0, 0, 0, 0, 1, 0, 0, 1], [0, 0, 0, 0, 1, 0, 1, 0, 0, 0, 0, 0, 0, 1, 1, 0, 1, 0, 0, 0, 0, 0, 0, 0, 0, 1, 1, 1, 0, 0, 0, 0], [0, 0, 0, 0, 0, 1, 0, 0, 0, 0, 0, 0, 0, 0, 0, 1, 0, 0, 0, 1, 0, 0, 1, 0, 0, 0, 0, 0, 0, 1, 0, 0], [0, 0, 1, 1, 0, 0, 1, 0, 0, 1, 0, 0, 1, 0, 1, 0, 0, 0, 0, 0, 0, 0, 1, 0, 1, 0, 0, 0, 0, 0, 0, 1], [0, 0, 0, 0, 0, 1, 0, 0, 0, 0, 0, 1, 0, 0, 0, 0, 0, 1, 1, 0, 0, 0, 0, 1, 0, 0, 0, 0, 0, 1, 0, 0]]\n",
      "['quit', 'buying', 'worthless', 'dog', 'food', 'stupid']\n"
     ]
    }
   ],
   "source": [
    "trainMat = []\n",
    "for postinDoc in listOfPosts:\n",
    "    #print(postinDoc)\n",
    "    trainMat.append(setOfWord2Vec(myVocabList,postinDoc))\n",
    "print(trainMat)\n",
    "print(listOfPosts[5])"
   ]
  },
  {
   "cell_type": "code",
   "execution_count": 12,
   "metadata": {},
   "outputs": [],
   "source": [
    "p0V,p1V,pAb = trainNB0(trainMat,listClasses)"
   ]
  },
  {
   "cell_type": "code",
   "execution_count": 13,
   "metadata": {},
   "outputs": [
    {
     "data": {
      "text/plain": [
       "0.5"
      ]
     },
     "execution_count": 13,
     "metadata": {},
     "output_type": "execute_result"
    }
   ],
   "source": [
    "pAb"
   ]
  },
  {
   "cell_type": "code",
   "execution_count": 14,
   "metadata": {},
   "outputs": [
    {
     "data": {
      "text/plain": [
       "array([-2.56494936, -2.56494936, -2.56494936, -2.56494936, -2.56494936,\n",
       "       -3.25809654, -1.87180218, -3.25809654, -3.25809654, -2.56494936,\n",
       "       -2.56494936, -3.25809654, -2.56494936, -2.56494936, -2.15948425,\n",
       "       -3.25809654, -2.56494936, -3.25809654, -3.25809654, -3.25809654,\n",
       "       -2.56494936, -3.25809654, -2.56494936, -2.56494936, -2.56494936,\n",
       "       -2.56494936, -2.56494936, -2.56494936, -3.25809654, -3.25809654,\n",
       "       -2.56494936, -2.56494936])"
      ]
     },
     "execution_count": 14,
     "metadata": {},
     "output_type": "execute_result"
    }
   ],
   "source": [
    "p0V"
   ]
  },
  {
   "cell_type": "code",
   "execution_count": 15,
   "metadata": {},
   "outputs": [
    {
     "data": {
      "text/plain": [
       "array([-3.04452244, -3.04452244, -3.04452244, -3.04452244, -3.04452244,\n",
       "       -1.65822808, -3.04452244, -2.35137526, -2.35137526, -3.04452244,\n",
       "       -3.04452244, -2.35137526, -3.04452244, -3.04452244, -2.35137526,\n",
       "       -2.35137526, -3.04452244, -2.35137526, -2.35137526, -2.35137526,\n",
       "       -3.04452244, -2.35137526, -2.35137526, -1.94591015, -3.04452244,\n",
       "       -3.04452244, -3.04452244, -3.04452244, -2.35137526, -1.94591015,\n",
       "       -3.04452244, -2.35137526])"
      ]
     },
     "execution_count": 15,
     "metadata": {},
     "output_type": "execute_result"
    }
   ],
   "source": [
    "p1V"
   ]
  },
  {
   "cell_type": "code",
   "execution_count": 16,
   "metadata": {},
   "outputs": [],
   "source": [
    "'''\n",
    "func: 分类器\n",
    "\n",
    "输入：待测向量，特征值向量的条件概率，各标签类的概率\n",
    "\n",
    "return: 待测随机变量与各类标签类联合概率分布的最大值；\n",
    "\n",
    "'''\n",
    "def classifyNB(vec2Classify,p0Vec,p1Vec,pClass1):\n",
    "    p1 = np.sum(vec2Classify*p1Vec) + np.log(pClass1)\n",
    "    p0 = np.sum(vec2Classify*p0Vec) + np.log(1.0-pClass1)\n",
    "    if p1 > p0:\n",
    "        return 1\n",
    "    else:\n",
    "        return 0"
   ]
  },
  {
   "cell_type": "code",
   "execution_count": 17,
   "metadata": {},
   "outputs": [],
   "source": [
    "def testingNB():\n",
    "    listOfPosts,listClasses = loadDataSet()\n",
    "    myVocabList = createVocabList(listOfPosts)\n",
    "    trainMat=[]\n",
    "    for postinDoc in listOfPosts:\n",
    "        trainMat.append(setOfWord2Vec(myVocabList,postinDoc))\n",
    "    p0V,p1V,pAb = trainNB0(np.array(trainMat),np.array(listClasses))\n",
    "    \n",
    "    testEntry = ['stupid','garbage']\n",
    "    testEntry1=['hello','good']\n",
    "    #thisDoc:文档testEntry的特征向量\n",
    "    thisDoc = np.array(setOfWord2Vec(myVocabList,testEntry1))\n",
    "    print(\"{}clasified as:{}\".format(testEntry1,classifyNB(thisDoc,p0V,p1V,pAb)))"
   ]
  },
  {
   "cell_type": "code",
   "execution_count": 18,
   "metadata": {},
   "outputs": [
    {
     "name": "stdout",
     "output_type": "stream",
     "text": [
      "the word:hello is not in my Vocabulary\n",
      "the word:good is not in my Vocabulary\n",
      "['hello', 'good']clasified as:0\n"
     ]
    }
   ],
   "source": [
    "testingNB()"
   ]
  },
  {
   "cell_type": "code",
   "execution_count": 19,
   "metadata": {},
   "outputs": [
    {
     "name": "stdout",
     "output_type": "stream",
     "text": [
      "This book is the best book on Python or M.L I have laid eyes upon.\n"
     ]
    }
   ],
   "source": [
    "\n",
    "mySent='This book is the best book on Python or M.L I have laid eyes upon.'\n",
    "\n",
    "import re\n",
    "print(mySent)\n",
    "listOfTokens =re.sub('[^A-Za-z]',' ',mySent).split(' ')\n",
    "\n",
    "[tok.lower() for tok in listOfTokens if len(tok) > 0]\n",
    "\n",
    "emailText = open('email/ham/6.txt').read()\n",
    "\n",
    "listOfTokens =re.sub('[^A-Za-z]',' ',emailText).split(' ')\n",
    "\n",
    "#[tok.lower() for tok in listOfTokens if len(tok) > 0]"
   ]
  },
  {
   "cell_type": "code",
   "execution_count": 20,
   "metadata": {},
   "outputs": [],
   "source": [
    "def textParse(bigString):\n",
    "    import re\n",
    "    listOfTokens =re.sub('[^A-Za-z]',' ',bigString).split(' ')\n",
    "    return [tok.lower() for tok in listOfTokens if len(tok) > 2]"
   ]
  },
  {
   "cell_type": "code",
   "execution_count": 21,
   "metadata": {},
   "outputs": [
    {
     "name": "stdout",
     "output_type": "stream",
     "text": [
      "path_spam: email/ham/23.txt\n",
      "['scifinance', 'now', 'automatically', 'generates', 'gpu', 'enabled', 'pricing', 'risk', 'model', 'source', 'code', 'that', 'runs', 'faster', 'than', 'serial', 'code', 'using', 'new', 'nvidia', 'fermi', 'class', 'tesla', 'series', 'gpu', 'scifinance', 'derivatives', 'pricing', 'and', 'risk', 'model', 'development', 'tool', 'that', 'automatically', 'generates', 'and', 'gpu', 'enabled', 'source', 'code', 'from', 'concise', 'high', 'level', 'model', 'specifications', 'parallel', 'computing', 'cuda', 'programming', 'expertise', 'required', 'scifinance', 'automatic', 'gpu', 'enabled', 'monte', 'carlo', 'pricing', 'model', 'source', 'code', 'generation', 'capabilities', 'have', 'been', 'significantly', 'extended', 'the', 'latest', 'release', 'this', 'includes']\n"
     ]
    }
   ],
   "source": [
    "path_spam = 'email/ham/%d.txt'%23\n",
    "print(\"path_spam:\",path_spam)\n",
    "wordList = textParse(open(path_spam).read())\n",
    "print(wordList)"
   ]
  },
  {
   "cell_type": "code",
   "execution_count": 22,
   "metadata": {},
   "outputs": [],
   "source": [
    "\n",
    "def spamTest():\n",
    "    '''\n",
    "    导入并解析文本文件\n",
    "    '''\n",
    "    docList=[];classList=[];fullText=[]\n",
    "    for i in range(1,26):\n",
    "        path_spam = 'email/spam/%d.txt'%i\n",
    "        #print(\"path_spam:\",path_spam)\n",
    "        wordList = textParse(open(path_spam).read())\n",
    "       # print(\"====1===\",wordList)\n",
    "        docList.append(wordList)\n",
    "        fullText.extend(wordList)\n",
    "        classList.append(1)\n",
    "        \n",
    "        path_ham = 'email/ham/%d.txt'%i\n",
    "        #print(\"path_spam:\",path_ham)\n",
    "        wordList =textParse(open(path_ham).read())\n",
    "        #print(\"====2===\",wordList)\n",
    "        docList.append(wordList)\n",
    "        fullText.extend(wordList)\n",
    "        classList.append(0)\n",
    "    vocabList = createVocabList(docList)\n",
    "    #print(vocabList)\n",
    "    for item in docList:\n",
    "        pass#print(\"-\"*88)\n",
    "        #print(item)\n",
    "        \n",
    "    #return 0\n",
    "    '''\n",
    "    随机构建训练集\n",
    "    '''\n",
    "    trainingSet = list(range(50));testSet=[]\n",
    "    for i in range(10):\n",
    "        randIndex = int(np.random.uniform(0,len(trainingSet)))\n",
    "        testSet.append(trainingSet[randIndex])\n",
    "        del(trainingSet[randIndex])\n",
    "    \n",
    "    #print(trainingSet)\n",
    "    #print(\"*\"*88)\n",
    "    #print(testSet)\n",
    "        \n",
    "    trainMat=[];trainClasses=[]\n",
    "    for docIndex in trainingSet:\n",
    "        #print(docIndex)\n",
    "        #print(docList[docIndex])\n",
    "        trainMat.append(setOfWord2Vec(vocabList,docList[docIndex]))\n",
    "        \n",
    "        trainClasses.append(classList[docIndex])\n",
    "    p0V,p1V,pSpam = trainNB0(np.array(trainMat),np.array(trainClasses))\n",
    "    #print(\"p0v:{},p1V:{},pSpam:{}\".format(p0V,p1V,pSpam))\n",
    "    errorCount=0\n",
    "    \n",
    "    for docIndex in testSet:\n",
    "        wordVector = setOfWord2Vec(vocabList,docList[docIndex])\n",
    "        if classifyNB(np.array(wordVector),p0V,p1V,pSpam) != classList[docIndex]:\n",
    "            print(\"error doc is:{}\".format(docIndex))\n",
    "            errorCount += 1\n",
    "    print(\"the error rate is:\",float(errorCount)/len(testSet))"
   ]
  },
  {
   "cell_type": "code",
   "execution_count": 23,
   "metadata": {},
   "outputs": [
    {
     "name": "stdout",
     "output_type": "stream",
     "text": [
      "the error rate is: 0.0\n"
     ]
    }
   ],
   "source": [
    "spamTest()"
   ]
  },
  {
   "cell_type": "code",
   "execution_count": 24,
   "metadata": {},
   "outputs": [],
   "source": [
    "import feedparser"
   ]
  },
  {
   "cell_type": "code",
   "execution_count": 29,
   "metadata": {},
   "outputs": [],
   "source": [
    "ny=feedparser.parse('http://newyork.craigslist.org/stp/index.rss')"
   ]
  },
  {
   "cell_type": "code",
   "execution_count": 42,
   "metadata": {},
   "outputs": [
    {
     "name": "stdout",
     "output_type": "stream",
     "text": [
      "{'feed': {'html': {'class': 'no-js'}, 'links': [{'type': 'text/css', 'rel': 'stylesheet', 'media': 'all', 'href': 'https://www.craigslist.org/styles/simple-page.css?v=3c90c8a90be2e9f4e6248d38855be90c'}, {'type': 'text/css', 'rel': 'stylesheet', 'media': 'all', 'href': 'https://www.craigslist.org/styles/jquery-ui-clcustom.css?v=3b05ddffb7c7f5b62066deff2dda9339'}, {'type': 'text/css', 'rel': 'stylesheet', 'media': 'all', 'href': 'https://www.craigslist.org/styles/jquery.qtip-2.2.1.css?v=cd202aead4d1dd4894fbae4ade23fcf8'}], 'meta': {'name': 'viewport', 'content': 'width=device-width,initial-scale=1'}}, 'entries': [], 'bozo': 1, 'headers': {'Connection': 'keep-alive', 'Cache-control': 'private', 'Last-Modified': 'Wed, 12 Dec 2018 09:36:35 GMT', 'Date': 'Wed, 12 Dec 2018 09:36:35 GMT', 'Content-Encoding': 'gzip', 'Vary': 'Accept-Encoding', 'Content-Length': '1863', 'Content-Type': 'text/html; charset=UTF-8', 'X-Frame-Options': 'SAMEORIGIN', 'Pragma': 'no-cache', 'Set-Cookie': 'cl_b=IlSVavH96BGNfuBGaLVQ0g0yetE;path=/;domain=.craigslist.org;expires=Fri, 01-Jan-2038 00:00:00 GMT', 'Server': 'Apache', 'Expires': 'Thu, 01 Jan 1970 00:00:00 GMT', 'Strict-Transport-Security': 'max-age=86400'}, 'updated': 'Wed, 12 Dec 2018 09:36:35 GMT', 'updated_parsed': time.struct_time(tm_year=2018, tm_mon=12, tm_mday=12, tm_hour=9, tm_min=36, tm_sec=35, tm_wday=2, tm_yday=346, tm_isdst=0), 'href': 'https://sfbay.craigslist.org/stp/index.rss', 'status': 301, 'encoding': 'UTF-8', 'bozo_exception': SAXParseException('mismatched tag',), 'version': '', 'namespaces': {}}\n"
     ]
    }
   ],
   "source": [
    "print(sf)"
   ]
  },
  {
   "cell_type": "code",
   "execution_count": 37,
   "metadata": {},
   "outputs": [],
   "source": [
    "ny=feedparser.parse('http://shanghai.craigslist.org/stp/index.rss')"
   ]
  },
  {
   "cell_type": "code",
   "execution_count": 38,
   "metadata": {},
   "outputs": [
    {
     "data": {
      "text/plain": [
       "[]"
      ]
     },
     "execution_count": 38,
     "metadata": {},
     "output_type": "execute_result"
    }
   ],
   "source": [
    "ny['entries']"
   ]
  },
  {
   "cell_type": "code",
   "execution_count": 27,
   "metadata": {},
   "outputs": [],
   "source": [
    "def calcMostFreq(vocabList,fullText):\n",
    "    import operator\n",
    "    freqDict = {}\n",
    "    for token in vocabList:\n",
    "        freqDict[token] = fullText.count(token)\n",
    "    sortedFreq = sorted(freqDict.iteritems(),reverse=True)\n",
    "    return sortedFreq[:30]"
   ]
  },
  {
   "cell_type": "code",
   "execution_count": 28,
   "metadata": {},
   "outputs": [],
   "source": [
    "def localWords(feed1,feed0):\n",
    "    import feedparser\n",
    "    docList=[];classList=[];fullText=[]\n",
    "    minLen = min(len(feed1['entries']),len(feed0['entries']))\n",
    "    for i in range(minLen):\n",
    "        wordList = textParse(fee1['entries'][i]['summary'])\n",
    "        docList.append(wordList)\n",
    "        fullText.extend(wordList)\n",
    "        classList.append(1)\n",
    "        \n",
    "        wordList = textParse(fee0['entries'][i]['summary'])\n",
    "        docList.append(wordList)\n",
    "        fullText.extend(wordList)\n",
    "        classList.append(0)\n",
    "    vocabList = createVocabList(docList)\n",
    "    top30Words = calcMostFreq(vocabList,fullText)\n",
    "    for pairW in top30Words:\n",
    "        if pairW[0] in vocabList:\n",
    "            vocabList.remove(pairW[0])\n",
    "    trainingSet = range(2*minLen)\n",
    "    testSet = []\n",
    "    \n",
    "    for i in range(20):\n",
    "        randIndex = int(np.random.uniform(0,len(trainingSet)))\n",
    "        testSet.append(trainingSet[randIndex])\n",
    "        del(trainingSet[randIndex])\n",
    "    trainMat =[]\n",
    "    trainClasses=[]\n",
    "    for docIndex in trainingSet:\n",
    "        trainMat.append(bagOfWords2VecMN(vocabList,docList[docIndex]))\n",
    "        trainClasses.append(classList[docIndex])\n",
    "    p0V,p1V,pSpam = trainNB0(np.array(trainMat),np.array(trainClasses))\n",
    "    \n",
    "    errorCount=0\n",
    "    for docIndex in testSet:\n",
    "        wordVector = bagOfWords2VecMN(vocabList,docList[docIndex])\n",
    "        if classifyNB(np.array(wordVector),p0V,p1V,pSpam) != classList[docIndex]:\n",
    "            errorCount +=1\n",
    "    print('the error rate is:',float(errorCount)/len(testSet))\n",
    "    \n",
    "    return vocabList,p0V,p1V\n",
    "    "
   ]
  },
  {
   "cell_type": "code",
   "execution_count": 47,
   "metadata": {},
   "outputs": [],
   "source": [
    "ny = feedparser.parse('http://newyork.craiglist.org/stp/index.rss')\n",
    "sf = feedparser.parse('http://sfbay.craiglist.org/stp/index.rss')"
   ]
  },
  {
   "cell_type": "code",
   "execution_count": 49,
   "metadata": {},
   "outputs": [
    {
     "name": "stdout",
     "output_type": "stream",
     "text": [
      "[]\n"
     ]
    }
   ],
   "source": [
    "print(sf['entries'])"
   ]
  },
  {
   "cell_type": "code",
   "execution_count": 45,
   "metadata": {},
   "outputs": [
    {
     "ename": "TypeError",
     "evalue": "'NoneType' object is not iterable",
     "output_type": "error",
     "traceback": [
      "\u001b[1;31m---------------------------------------------------------------------------\u001b[0m",
      "\u001b[1;31mTypeError\u001b[0m                                 Traceback (most recent call last)",
      "\u001b[1;32m<ipython-input-45-1c7f1f895e0c>\u001b[0m in \u001b[0;36m<module>\u001b[1;34m()\u001b[0m\n\u001b[1;32m----> 1\u001b[1;33m \u001b[0mvocabList\u001b[0m\u001b[1;33m,\u001b[0m \u001b[0mpSF\u001b[0m\u001b[1;33m,\u001b[0m \u001b[0mpNY\u001b[0m \u001b[1;33m=\u001b[0m \u001b[0mlocalWords\u001b[0m\u001b[1;33m(\u001b[0m\u001b[0mny\u001b[0m\u001b[1;33m,\u001b[0m \u001b[0msf\u001b[0m\u001b[1;33m)\u001b[0m\u001b[1;33m\u001b[0m\u001b[0m\n\u001b[0m",
      "\u001b[1;31mTypeError\u001b[0m: 'NoneType' object is not iterable"
     ]
    }
   ],
   "source": [
    " vocabList, pSF, pNY = localWords(ny, sf)"
   ]
  },
  {
   "cell_type": "code",
   "execution_count": null,
   "metadata": {},
   "outputs": [],
   "source": []
  }
 ],
 "metadata": {
  "kernelspec": {
   "display_name": "Python 3",
   "language": "python",
   "name": "python3"
  },
  "language_info": {
   "codemirror_mode": {
    "name": "ipython",
    "version": 3
   },
   "file_extension": ".py",
   "mimetype": "text/x-python",
   "name": "python",
   "nbconvert_exporter": "python",
   "pygments_lexer": "ipython3",
   "version": "3.6.5"
  }
 },
 "nbformat": 4,
 "nbformat_minor": 2
}
