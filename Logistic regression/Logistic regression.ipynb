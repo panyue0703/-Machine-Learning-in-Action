{
 "cells": [
  {
   "cell_type": "markdown",
   "metadata": {
    "collapsed": true
   },
   "source": [
    "# <center>Logistic回归</center>"
   ]
  },
  {
   "cell_type": "markdown",
   "metadata": {},
   "source": [
    "本节重点：\n",
    "* Sigmoid函数和Logistic回归分器\n",
    "* 最优化理论初步\n",
    "* 梯度下降最优化算法\n",
    "* 数据中的缺失项处理"
   ]
  },
  {
   "cell_type": "markdown",
   "metadata": {},
   "source": [
    "## 一、基于Logistic回归和Sigmoid函数的分类"
   ]
  },
  {
   "cell_type": "markdown",
   "metadata": {},
   "source": [
    "* 用于非线性的分类\n",
    "* 界越函数的难点，是0到1的瞬间跳跃很难处理 \n"
   ]
  },
  {
   "cell_type": "markdown",
   "metadata": {},
   "source": [
    "__Sigmoid函数__\n",
    "$$ \\delta(z) = \\frac{1}{1+e^{-z}}$$"
   ]
  },
  {
   "cell_type": "code",
   "execution_count": null,
   "metadata": {
    "collapsed": true
   },
   "outputs": [],
   "source": [
    "def sigmoid(inX):\n",
    "    return 1.0/(1+exp(-inX))"
   ]
  },
  {
   "cell_type": "markdown",
   "metadata": {},
   "source": [
    "<img src='fig\\5-2.png' width='500'> "
   ]
  },
  {
   "cell_type": "markdown",
   "metadata": {},
   "source": [
    "## sigmoid函数展示"
   ]
  },
  {
   "cell_type": "code",
   "execution_count": 26,
   "metadata": {},
   "outputs": [
    {
     "data": {
      "image/png": "[encoded data removed]",
      "text/plain": [
       "<matplotlib.figure.Figure at 0x11303f450>"
      ]
     },
     "metadata": {},
     "output_type": "display_data"
    }
   ],
   "source": [
    "import sys\n",
    "from pylab import *\n",
    "\n",
    "t = arange(-60.0, 60.3, 0.1)\n",
    "s = 1/(1 + exp(-t))\n",
    "ax = subplot(211)\n",
    "ax.plot(t,s)\n",
    "ax.axis([-5,5,0,1])\n",
    "plt.xlabel('x')\n",
    "plt.ylabel('Sigmoid(x)')\n",
    "\n",
    "ax = subplot(212)\n",
    "ax.plot(t,s)\n",
    "ax.axis([-60,60,0,1])\n",
    "plt.xlabel('x')\n",
    "plt.ylabel('Sigmoid(x)')\n",
    "show()"
   ]
  },
  {
   "cell_type": "markdown",
   "metadata": {},
   "source": [
    "## 二、基于优化方法的最佳回归系数确定"
   ]
  },
  {
   "cell_type": "markdown",
   "metadata": {},
   "source": [
    "### 1.梯度上升算法（最优化算法）\n",
    "* 思想：要找到某个函数的最大值，沿着梯度往上找。\n",
    "* 记号：$ \\bigtriangledown  $\n",
    "$$ \\bigtriangledown f(x,y) = \\left \\{ \n",
    "\\begin{aligned}\n",
    "\\frac{\\partial f(x,y)}{\\partial x} \\\\\n",
    "\\frac{\\partial f(x,y)}{\\partial y} \\\\\n",
    "\\end{aligned}\n",
    "\\right \\}$$\n",
    "\n",
    "函数$f(x,y)$在计算点上有定义并且可微。\n",
    "\n",
    "<img src='fig\\5-1.png' width='500'> \n",
    "\n",
    "梯度上升算法的迭代公式：$$w:=w+\\alpha \\bigtriangledown_{w}f(w) $$\n",
    "__找最大值__\n",
    "\n",
    "$\\alpha$是变量移动的步长\n",
    "\n",
    "梯度下降算法的迭代公式：$$w:=w-\\alpha \\bigtriangledown_{w}f(w) $$\n",
    "__找最小值__"
   ]
  },
  {
   "cell_type": "markdown",
   "metadata": {},
   "source": [
    "### 2.算法训练过程"
   ]
  },
  {
   "cell_type": "markdown",
   "metadata": {
    "collapsed": true
   },
   "source": [
    "梯度上升法  ---》  最佳回归系数（即拟合出Logistic回归模型的最佳参数）\n",
    "```\n",
    "伪代码：\n",
    "    每个回归系数初始化为1\n",
    "    重复R次：\n",
    "        计算整个数据集的梯度\n",
    "        使用alpha*gradient跟新回归系数的向量\n",
    "    返回回归系数\n",
    "```\n",
    "testSet.txt 的文件\n",
    "```\n",
    "X1            X2     类别标签\n",
    "-0.017612\t14.053064\t0 \n",
    "-1.395634\t4.662541\t1\n",
    "-0.752157\t6.538620\t0\n",
    "-1.322371\t7.152853\t0\n",
    "0.423363\t11.054677\t0\n",
    "0.406704\t7.067335\t1\n",
    "0.667394\t12.741452\t0\n",
    "-2.460150\t6.866805\t1\n",
    "0.569411\t9.548755\t0\n",
    "```"
   ]
  },
  {
   "cell_type": "code",
   "execution_count": null,
   "metadata": {
    "collapsed": true
   },
   "outputs": [],
   "source": [
    "def loadDataSet():\n",
    "    dataMat = []; labelMat = []\n",
    "    fr = open('testSet.txt')\n",
    "    for line in fr.readlines():\n",
    "        lineArr = line.strip().split()\n",
    "        # 这里由于要拟合的方程是 y = wx + b 的一元二次方程，所以只要一个权重\n",
    "        # 我们初始化这个权重为 1.0 但这边的1 应该指的是 b （方程的常数项参数）\n",
    "        dataMat.append([1.0, float(lineArr[0]), float(lineArr[1])])\n",
    "        labelMat.append(int(lineArr[2]))\n",
    "    return dataMat,labelMat\n",
    "\n",
    "def sigmoid(inX):\n",
    "    return 1.0/(1+exp(-inX))\n",
    "\n",
    "def gradAscent(dataMatIn, classLabels):  #梯度上升算法\n",
    "    dataMatrix = mat(dataMatIn)   \n",
    "    #转换为NumPy矩阵 #convert to NumPy matrix\n",
    "    labelMat = mat(classLabels).transpose() #convert to NumPy matrix\n",
    "    m,n = shape(dataMatrix)   #m 行  n 列\n",
    "    alpha = 0.001   #移动的步长\n",
    "    maxCycles = 500  #迭代的次数\n",
    "    \n",
    "    weights = ones((n,1))  #三列 向量\n",
    "    \n",
    "    初始化权重为1\n",
    "    [[ 1.]\n",
    "     [ 1.]\n",
    "     [ 1.]]\n",
    "    \n",
    "    \"\"\" for 循环结束后返回训练好的回归系数\"\"\"\n",
    "    \n",
    "    \n",
    "                    #迭代的次数                                  #矩阵操作\n",
    "    for k in range(maxCycles):              #heavy on matrix  operations\n",
    "        h = sigmoid(dataMatrix*weights)   #矩阵相乘  #matrix mult\n",
    "        error = (labelMat - h)            #向量减法  #vector subtraction\n",
    "        weights = weights + alpha * dataMatrix.transpose()* error atrix mult\n",
    "    return weights\n",
    "\n",
    "\n",
    "#注意这里的每次迭代都是"
   ]
  },
  {
   "cell_type": "markdown",
   "metadata": {},
   "source": [
    "#### 权重更新算法\n",
    "$$w(j) = w(j) + \\bigtriangledown w(j)$$\n",
    "$$\\bigtriangledown w(j) = \\eta \\times (y - y^{、}) \\times x(j) $$\n",
    "\n",
    "error  就是 $y - y^{、}$   error = (labelMat - h) \n",
    "\n"
   ]
  },
  {
   "cell_type": "markdown",
   "metadata": {},
   "source": [
    "weights = weights + alpha * dataMatrix.transpose()* error"
   ]
  },
  {
   "cell_type": "markdown",
   "metadata": {},
   "source": [
    "__转至函数 transpose()__\n",
    "#### 对于梯度上升法函数的讲解"
   ]
  },
  {
   "cell_type": "markdown",
   "metadata": {},
   "source": [
    "<img src='fig\\5-1.jpeg' width='500'> "
   ]
  },
  {
   "cell_type": "markdown",
   "metadata": {},
   "source": [
    "该梯度下降算法是基于和差距离公式的，对于和差公式距离的梯度下降算法，请看神经网络的部分的代码解释。"
   ]
  },
  {
   "cell_type": "code",
   "execution_count": null,
   "metadata": {
    "collapsed": true
   },
   "outputs": [],
   "source": [
    "dataMatrix = mat(dataMatIn)\n",
    "\n",
    "print dataMatrix  将  dataMatIn 数组转换为 dataMatrix 举证\n",
    "[[  1.00000000e+00  -1.76120000e-02   1.40530640e+01]\n",
    " [  1.00000000e+00  -1.39563400e+00   4.66254100e+00]\n",
    " [  1.00000000e+00  -7.52157000e-01   6.53862000e+00]\n",
    " [  1.00000000e+00  -1.32237100e+00   7.15285300e+00]\n",
    " [  1.00000000e+00   4.23363000e-01   1.10546770e+01]\n",
    "\n",
    " mat(classLabels)\n",
    " \n",
    " [[0 1 0 0 0 1 0 1 0 0 1 0 1 0 1 1 1 1 1 1 1 1 0 1 1 0 0 1 1 0 1 1 0 1 1 0 0\n",
    "  0 0 0 1 1 0 1 1 0 1 1 0 0 0 0 0 0 1 1 0 1 0 1 1 1 0 0 0 1 1 0 0 0 0 1 0 1\n",
    "  0 0 1 1 1 1 0 1 0 1 1 1 1 0 1 1 1 0 0 1 1 1 0 1 0 0]]\n",
    " \n",
    " mat(classLabels).transpose()  转置\n",
    " \n",
    " [[0]\n",
    " [1]\n",
    " [0]\n",
    " [0]\n",
    " [0]\n",
    " [1]\n",
    "  \n"
   ]
  },
  {
   "cell_type": "code",
   "execution_count": 1,
   "metadata": {
    "collapsed": true
   },
   "outputs": [],
   "source": [
    "import logRegres"
   ]
  },
  {
   "cell_type": "code",
   "execution_count": 2,
   "metadata": {
    "collapsed": true
   },
   "outputs": [],
   "source": [
    "dataArr,labelMat = logRegres.loadDataSet()"
   ]
  },
  {
   "cell_type": "code",
   "execution_count": 3,
   "metadata": {},
   "outputs": [
    {
     "name": "stdout",
     "output_type": "stream",
     "text": [
      "[[1.0, -0.017612, 14.053064], [1.0, -1.395634, 4.662541], [1.0, -0.752157, 6.53862], [1.0, -1.322371, 7.152853], [1.0, 0.423363, 11.054677], [1.0, 0.406704, 7.067335], [1.0, 0.667394, 12.741452], [1.0, -2.46015, 6.866805], [1.0, 0.569411, 9.548755], [1.0, -0.026632, 10.427743], [1.0, 0.850433, 6.920334], [1.0, 1.347183, 13.1755], [1.0, 1.176813, 3.16702], [1.0, -1.781871, 9.097953], [1.0, -0.566606, 5.749003], [1.0, 0.931635, 1.589505], [1.0, -0.024205, 6.151823], [1.0, -0.036453, 2.690988], [1.0, -0.196949, 0.444165], [1.0, 1.014459, 5.754399], [1.0, 1.985298, 3.230619], [1.0, -1.693453, -0.55754], [1.0, -0.576525, 11.778922], [1.0, -0.346811, -1.67873], [1.0, -2.124484, 2.672471], [1.0, 1.217916, 9.597015], [1.0, -0.733928, 9.098687], [1.0, -3.642001, -1.618087], [1.0, 0.315985, 3.523953], [1.0, 1.416614, 9.619232], [1.0, -0.386323, 3.989286], [1.0, 0.556921, 8.294984], [1.0, 1.224863, 11.58736], [1.0, -1.347803, -2.406051], [1.0, 1.196604, 4.951851], [1.0, 0.275221, 9.543647], [1.0, 0.470575, 9.332488], [1.0, -1.889567, 9.542662], [1.0, -1.527893, 12.150579], [1.0, -1.185247, 11.309318], [1.0, -0.445678, 3.297303], [1.0, 1.042222, 6.105155], [1.0, -0.618787, 10.320986], [1.0, 1.152083, 0.548467], [1.0, 0.828534, 2.676045], [1.0, -1.237728, 10.549033], [1.0, -0.683565, -2.166125], [1.0, 0.229456, 5.921938], [1.0, -0.959885, 11.555336], [1.0, 0.492911, 10.993324], [1.0, 0.184992, 8.721488], [1.0, -0.355715, 10.325976], [1.0, -0.397822, 8.058397], [1.0, 0.824839, 13.730343], [1.0, 1.507278, 5.027866], [1.0, 0.099671, 6.835839], [1.0, -0.344008, 10.717485], [1.0, 1.785928, 7.718645], [1.0, -0.918801, 11.560217], [1.0, -0.364009, 4.7473], [1.0, -0.841722, 4.119083], [1.0, 0.490426, 1.960539], [1.0, -0.007194, 9.075792], [1.0, 0.356107, 12.447863], [1.0, 0.342578, 12.281162], [1.0, -0.810823, -1.466018], [1.0, 2.530777, 6.476801], [1.0, 1.296683, 11.607559], [1.0, 0.475487, 12.040035], [1.0, -0.783277, 11.009725], [1.0, 0.074798, 11.02365], [1.0, -1.337472, 0.468339], [1.0, -0.102781, 13.763651], [1.0, -0.147324, 2.874846], [1.0, 0.518389, 9.887035], [1.0, 1.015399, 7.571882], [1.0, -1.658086, -0.027255], [1.0, 1.319944, 2.171228], [1.0, 2.056216, 5.019981], [1.0, -0.851633, 4.375691], [1.0, -1.510047, 6.061992], [1.0, -1.076637, -3.181888], [1.0, 1.821096, 10.28399], [1.0, 3.01015, 8.401766], [1.0, -1.099458, 1.688274], [1.0, -0.834872, -1.733869], [1.0, -0.846637, 3.849075], [1.0, 1.400102, 12.628781], [1.0, 1.752842, 5.468166], [1.0, 0.078557, 0.059736], [1.0, 0.089392, -0.7153], [1.0, 1.825662, 12.693808], [1.0, 0.197445, 9.744638], [1.0, 0.126117, 0.922311], [1.0, -0.679797, 1.22053], [1.0, 0.677983, 2.556666], [1.0, 0.761349, 10.693862], [1.0, -2.168791, 0.143632], [1.0, 1.38861, 9.341997], [1.0, 0.317029, 14.739025]]\n",
      "-----------------------\n",
      "[0, 1, 0, 0, 0, 1, 0, 1, 0, 0, 1, 0, 1, 0, 1, 1, 1, 1, 1, 1, 1, 1, 0, 1, 1, 0, 0, 1, 1, 0, 1, 1, 0, 1, 1, 0, 0, 0, 0, 0, 1, 1, 0, 1, 1, 0, 1, 1, 0, 0, 0, 0, 0, 0, 1, 1, 0, 1, 0, 1, 1, 1, 0, 0, 0, 1, 1, 0, 0, 0, 0, 1, 0, 1, 0, 0, 1, 1, 1, 1, 0, 1, 0, 1, 1, 1, 1, 0, 1, 1, 1, 0, 0, 1, 1, 1, 0, 1, 0, 0]\n"
     ]
    }
   ],
   "source": [
    "print dataArr\n",
    "print '-----------------------'\n",
    "print labelMat"
   ]
  },
  {
   "cell_type": "code",
   "execution_count": 4,
   "metadata": {},
   "outputs": [
    {
     "data": {
      "text/plain": [
       "matrix([[ 4.12414349],\n",
       "        [ 0.48007329],\n",
       "        [-0.6168482 ]])"
      ]
     },
     "execution_count": 4,
     "metadata": {},
     "output_type": "execute_result"
    }
   ],
   "source": [
    "logRegres.gradAscent(dataArr,labelMat)"
   ]
  },
  {
   "cell_type": "code",
   "execution_count": null,
   "metadata": {
    "collapsed": true
   },
   "outputs": [],
   "source": []
  },
  {
   "cell_type": "markdown",
   "metadata": {
    "collapsed": true
   },
   "source": [
    "### 3.分析数据：画出决策边界"
   ]
  },
  {
   "cell_type": "code",
   "execution_count": null,
   "metadata": {
    "collapsed": true
   },
   "outputs": [],
   "source": [
    "def plotBestFit(weights):\n",
    "    import matplotlib.pyplot as plt\n",
    "    dataMat,labelMat=loadDataSet()\n",
    "    dataArr = array(dataMat)\n",
    "    n = shape(dataArr)[0]  #数据有多少行\n",
    "    \n",
    "#如果取数据写成这个样子就不用，转换啦～～\n",
    "#\n",
    "    \n",
    "    \n",
    "    xcord1 = []; ycord1 = []\n",
    "    xcord2 = []; ycord2 = []\n",
    "    \n",
    "    for i in range(n):\n",
    "        if int(labelMat[i])== 1:  #按照标签进行分类\n",
    "            xcord1.append(dataArr[i,1]); ycord1.append(dataArr[i,2])\n",
    "        else:\n",
    "            xcord2.append(dataArr[i,1]); ycord2.append(dataArr[i,2])\n",
    "            \n",
    "            \n",
    "            \n",
    "    fig = plt.figure()\n",
    "    ax = fig.add_subplot(111)  #ax是图片的不就\n",
    "    ax.scatter(xcord1, ycord1, s=30, c='red', marker='s')\n",
    "    ax.scatter(xcord2, ycord2, s=30, c='green')\n",
    "    \n",
    "    x = arange(-3.0, 3.0, 0.1)\n",
    "    y = (-weights[0]-weights[1]*x)/weights[2]\n",
    "    \n",
    "   # 为什么y要这样设置值\n",
    "    \n",
    "    ax.plot(x, y)\n",
    "    \n",
    "    plt.xlabel('X1'); plt.ylabel('X2');\n",
    "    plt.show()"
   ]
  },
  {
   "cell_type": "code",
   "execution_count": 5,
   "metadata": {
    "collapsed": true
   },
   "outputs": [],
   "source": [
    "from numpy import *"
   ]
  },
  {
   "cell_type": "code",
   "execution_count": 6,
   "metadata": {
    "collapsed": true
   },
   "outputs": [],
   "source": [
    "weights = logRegres.gradAscent(dataArr,labelMat)"
   ]
  },
  {
   "cell_type": "markdown",
   "metadata": {},
   "source": [
    "### getA()函数 \n",
    "*  matrix.getA() = array\n",
    "* 区别：matrix 和 array\n",
    "    * array 可以是多维度，但 matrix 只能是二维 矩阵"
   ]
  },
  {
   "cell_type": "code",
   "execution_count": 7,
   "metadata": {},
   "outputs": [
    {
     "name": "stdout",
     "output_type": "stream",
     "text": [
      "[[ 0  1  2  3]\n",
      " [ 4  5  6  7]\n",
      " [ 8  9 10 11]]\n",
      "<class 'numpy.matrixlib.defmatrix.matrix'>\n"
     ]
    }
   ],
   "source": [
    "import numpy as np\n",
    "x = np.matrix(np.arange(12).reshape((3,4)))\n",
    "print(x)\n",
    "print (type(x))"
   ]
  },
  {
   "cell_type": "code",
   "execution_count": 8,
   "metadata": {},
   "outputs": [
    {
     "name": "stdout",
     "output_type": "stream",
     "text": [
      "[[ 0  1  2  3]\n",
      " [ 4  5  6  7]\n",
      " [ 8  9 10 11]]\n",
      "<type 'numpy.ndarray'>\n"
     ]
    }
   ],
   "source": [
    "print (x.getA())\n",
    "print (type(x.getA()))"
   ]
  },
  {
   "cell_type": "code",
   "execution_count": 9,
   "metadata": {},
   "outputs": [
    {
     "data": {
      "image/png": "[encoded data removed]",
      "text/plain": [
       "<matplotlib.figure.Figure at 0x10ac65410>"
      ]
     },
     "metadata": {},
     "output_type": "display_data"
    }
   ],
   "source": [
    "logRegres.plotBestFit(weights.getA())"
   ]
  },
  {
   "cell_type": "code",
   "execution_count": 17,
   "metadata": {
    "collapsed": true
   },
   "outputs": [],
   "source": [
    "#写一个函数画出原来的数据分布\n",
    "def plotBeforPlot():\n",
    "    import matplotlib.pyplot as plt\n",
    "    import numpy as np\n",
    "    dataMat, labelMat = logRegres.loadDataSet()\n",
    "    dataArr = np.array(dataMat)\n",
    "    n = shape(dataArr)[0]\n",
    "    fig = plt.figure()\n",
    "    ax = fig.add_subplot(111)\n",
    "    x = dataArr[:,1]\n",
    "    y = dataArr[:,2]\n",
    "    ax.scatter(x,y,s=30,c='black')  #画散点图\n",
    "    plt.show()\n",
    "    pass"
   ]
  },
  {
   "cell_type": "code",
   "execution_count": 18,
   "metadata": {},
   "outputs": [
    {
     "data": {
      "image/png": "[encoded data removed]",
      "text/plain": [
       "<matplotlib.figure.Figure at 0x1097c5d90>"
      ]
     },
     "metadata": {},
     "output_type": "display_data"
    }
   ],
   "source": [
    "plotBeforPlot()"
   ]
  },
  {
   "cell_type": "markdown",
   "metadata": {},
   "source": [
    "## 3.训练算法：随机梯度上升"
   ]
  },
  {
   "cell_type": "markdown",
   "metadata": {},
   "source": [
    "梯度上升算法，每次更新回归系数的时候都需要将整个数据集遍历完，（这样时间复杂度太高了），我们从更新计算是的公式可以观察到，每次全职的更新都是每个样例的误差和。\n",
    "\n",
    "改进办法：__随机梯度上升算法__\n",
    "\n",
    "每次仅用一个样本点来更新回归系数。\n",
    "* 它是__在线学习算法__【新样本到来时对分类器进行了增量式的更新】\n",
    "* 与在线学习相对的是 __离线学习__ 即 __批处理__ 如上述梯度上升算法\n",
    "\n",
    "\n",
    "\n",
    "随机梯度上升伪代码：\n",
    "```\n",
    "所有回归系数初始化为1\n",
    "对数据集中每个样本\n",
    "     计算该样本的梯度\n",
    "     使用  alpha 乘以  gradient 更新回归系数值\n",
    "返回回归系数\n",
    "```\n",
    "\n",
    "梯度上升伪代码：\n",
    "```\n",
    "\n",
    "    每个回归系数初始化为1\n",
    "    重复R次：\n",
    "        计算整个数据集的梯度\n",
    "        使用alpha*gradient跟新回归系数的向量\n",
    "    返回回归系数\n",
    "```\n",
    "\n",
    "对比：\n",
    "* 对比之后可以很明显看书 随机梯度上升代码 计算的是每个样本的梯度 而梯度上升算法计算的是 整个数据集的梯度"
   ]
  },
  {
   "cell_type": "code",
   "execution_count": null,
   "metadata": {
    "collapsed": true
   },
   "outputs": [],
   "source": [
    "#随机梯度上升算法的代码：\n",
    "def stocGradAscent0(dataMatrix, classLabels):\n",
    "    m,n = shape(dataMatrix)   #n列 表示有多少权值     m行 数据集的个数\n",
    "    alpha = 0.01\n",
    "    weights = ones(n)   #initialize to all ones  \n",
    "    for i in range(m):\n",
    "        h = sigmoid(sum(dataMatrix[i]*weights))  #计算的标签值\n",
    "        \n",
    "        sum(dataMatrix[i]*weights)  #是 sigmoid函数的输入值\n",
    "        \n",
    "        error = classLabels[i] - h   #误差\n",
    "        weights = weights + alpha * error * dataMatrix[i]  #权职的更新\n",
    "        \n",
    "    return weights  最后返回\n",
    "\n",
    "#梯度上升算法的代码：\n",
    "def gradAscent(dataMatIn, classLabels):\n",
    "    dataMatrix = mat(dataMatIn)             #convert to NumPy matrix\n",
    "    labelMat = mat(classLabels).transpose() #convert to NumPy matrix\n",
    "    m,n = shape(dataMatrix)\n",
    "    alpha = 0.001   #移步的长度   即  学习因子\n",
    "    maxCycles = 500\n",
    "    weights = ones((n,1))\n",
    "    for k in range(maxCycles):              #heavy on matrix operations\n",
    "        h = sigmoid(dataMatrix*weights)     #matrix mult\n",
    "        error = (labelMat - h)              #vector subtraction\n",
    "        weights = weights + alpha * dataMatrix.transpose()* error #matrix mult\n",
    "    return weights"
   ]
  },
  {
   "cell_type": "code",
   "execution_count": 22,
   "metadata": {
    "collapsed": true
   },
   "outputs": [],
   "source": [
    "import logRegres\n",
    "dataArr,labelMat = logRegres.loadDataSet()"
   ]
  },
  {
   "cell_type": "code",
   "execution_count": 23,
   "metadata": {
    "collapsed": true
   },
   "outputs": [],
   "source": [
    "weights = logRegres.stocGradAscent0(array(dataArr),labelMat)"
   ]
  },
  {
   "cell_type": "code",
   "execution_count": 24,
   "metadata": {},
   "outputs": [
    {
     "data": {
      "image/png": "[encoded data removed]",
      "text/plain": [
       "<matplotlib.figure.Figure at 0x112db2e10>"
      ]
     },
     "metadata": {},
     "output_type": "display_data"
    }
   ],
   "source": [
    "logRegres.plotBestFit(weights)"
   ]
  },
  {
   "cell_type": "markdown",
   "metadata": {},
   "source": [
    "但是对比连个实验，随机梯度上升算法似乎在准确度上不是很高。\n",
    "\n",
    "可以看出最佳拟合曲线 并不是 最佳分类曲线 （原因迭代次数少）"
   ]
  },
  {
   "cell_type": "markdown",
   "metadata": {},
   "source": [
    "## 判断一个算法的优劣：算法内否收敛，即参数达到稳定状态。"
   ]
  },
  {
   "cell_type": "code",
   "execution_count": 30,
   "metadata": {},
   "outputs": [
    {
     "data": {
      "image/png": "[encoded data removed]",
      "text/plain": [
       "<matplotlib.figure.Figure at 0x113303510>"
      ]
     },
     "metadata": {},
     "output_type": "display_data"
    }
   ],
   "source": [
    "from numpy import *\n",
    "import matplotlib\n",
    "import matplotlib.pyplot as plt\n",
    "from matplotlib.patches import Rectangle\n",
    "import logRegres\n",
    "\n",
    "def stocGradAscent0(dataMatrix, classLabels):\n",
    "    m,n = shape(dataMatrix)\n",
    "    alpha = 0.5\n",
    "    weights = ones(n)   #initialize to all ones\n",
    "    weightsHistory=zeros((500*m,n))\n",
    "    for j in range(500):\n",
    "        for i in range(m):\n",
    "            h = logRegres.sigmoid(sum(dataMatrix[i]*weights))\n",
    "            error = classLabels[i] - h\n",
    "            weights = weights + alpha * error * dataMatrix[i]\n",
    "            weightsHistory[j*m + i,:] = weights\n",
    "    return weightsHistory\n",
    "\n",
    "def stocGradAscent1(dataMatrix, classLabels):\n",
    "    m,n = shape(dataMatrix)\n",
    "    alpha = 0.4\n",
    "    weights = ones(n)   #initialize to all ones\n",
    "    weightsHistory=zeros((40*m,n))\n",
    "    for j in range(40):\n",
    "        dataIndex = range(m)\n",
    "        for i in range(m):\n",
    "            alpha = 4/(1.0+j+i)+0.01\n",
    "            randIndex = int(random.uniform(0,len(dataIndex)))\n",
    "            h = logRegres.sigmoid(sum(dataMatrix[randIndex]*weights))\n",
    "            error = classLabels[randIndex] - h\n",
    "            #print error\n",
    "            weights = weights + alpha * error * dataMatrix[randIndex]\n",
    "            weightsHistory[j*m + i,:] = weights\n",
    "            del(dataIndex[randIndex])\n",
    "    print weights\n",
    "    return weightsHistory\n",
    "    \n",
    "\n",
    "dataMat,labelMat=logRegres.loadDataSet()\n",
    "dataArr = array(dataMat)\n",
    "myHist = stocGradAscent0(dataArr,labelMat)\n",
    "\n",
    "\n",
    "n = shape(dataArr)[0] #number of points to create\n",
    "xcord1 = []; ycord1 = []\n",
    "xcord2 = []; ycord2 = []\n",
    "\n",
    "markers =[]\n",
    "colors =[]\n",
    "\n",
    "\n",
    "fig = plt.figure()\n",
    "ax = fig.add_subplot(311)\n",
    "type1 = ax.plot(myHist[:,0])\n",
    "plt.ylabel('X0')\n",
    "ax = fig.add_subplot(312)\n",
    "type1 = ax.plot(myHist[:,1])\n",
    "plt.ylabel('X1')\n",
    "ax = fig.add_subplot(313)\n",
    "type1 = ax.plot(myHist[:,2])\n",
    "plt.xlabel('iteration')\n",
    "plt.ylabel('X2')\n",
    "plt.show()"
   ]
  },
  {
   "cell_type": "markdown",
   "metadata": {},
   "source": [
    "### 改进随机梯度上升算法"
   ]
  },
  {
   "cell_type": "markdown",
   "metadata": {},
   "source": [
    "改进算法的两个思路：\n",
    "* 1.变化的学习因子alpha\n",
    "    * 好处：缓解数据的波动或者高频波动\n",
    "    * 当 j << max(i) 时，alpha就不是严格下降的。\n",
    "    * 代码（具体实现）：alpha = 4/(1.0+j+i)+0.0001\n",
    "    * 由上式可以看出，分母不断增大，alpha就不不断减小，但永远也不会减少到0，因为里面有常数项。这样就保证另外多次迭代之后，新数据仍然具有一定的影响力。\n",
    "    * 公式含义：  \n",
    "        * i：样本点的下标\n",
    "        * j：迭代次数\n",
    "        * 0.0001：常数项\n",
    "        \n",
    "        \n",
    "* 随机选择样本：\n",
    "    * 好处：将减少周期性的波动\n",
    "    * 具体做法：每次随机从列表中选出一个值，然后从列表中删除掉该值"
   ]
  },
  {
   "cell_type": "code",
   "execution_count": null,
   "metadata": {
    "collapsed": true
   },
   "outputs": [],
   "source": [
    "改进随机梯度上升算法的代码：\n",
    "def stocGradAscent1(dataMatrix, classLabels, numIter=150):\n",
    "    m,n = shape(dataMatrix)\n",
    "    weights = ones(n)   #initialize to all ones\n",
    "    for j in range(numIter): 迭代次数\n",
    "        dataIndex = range(m) 创建一个索引列表\n",
    "        for i in range(m):\n",
    "            alpha = 4/(1.0+j+i)+0.0001    #apha decreases with iteration, does not \n",
    "            改进一：apha学习因子，每次迭代都会做出调整。alpha会随着迭代次数不断减小，但永远\n",
    "            都不会减小到0（应为）\n",
    "            randIndex = int(random.uniform(0,len(dataIndex)))  \n",
    "            注意这是每次从新的索引列表中去数字\n",
    "            \n",
    "            随机选取样本来更新回归系数，这样将减少周期性的波动\n",
    "            具体做法：每次随机从列表中选出一个值，然后从列表中删除掉该值，\n",
    "            #go to 0 because of the constant\n",
    "            \n",
    "            h = sigmoid(sum(dataMatrix[randIndex]*weights))\n",
    "            \n",
    "            error = classLabels[randIndex] - h\n",
    "            weights = weights + alpha * error * dataMatrix[randIndex]\n",
    "            del(dataIndex[randIndex]) 删除随机到的元素\n",
    "    return weights\n",
    "\n",
    "随机梯度上升算法的代码：\n",
    "def stocGradAscent0(dataMatrix, classLabels):\n",
    "    m,n = shape(dataMatrix)   n列 表示有多少权值     m行 数据集的个数\n",
    "    alpha = 0.01\n",
    "    weights = ones(n)   #initialize to all ones  \n",
    "    for i in range(m):\n",
    "        h = sigmoid(sum(dataMatrix[i]*weights))  计算的标签值\n",
    "        \n",
    "        sum(dataMatrix[i]*weights)  是 sigmoid函数的输入值\n",
    "        \n",
    "        error = classLabels[i] - h   误差\n",
    "        weights = weights + alpha * error * dataMatrix[i]  权职的更新\n",
    "        \n",
    "    return weights  最后返回"
   ]
  },
  {
   "cell_type": "markdown",
   "metadata": {},
   "source": [
    "uniform() 方法将随机生成下一个实数，它在 [x, y) 范围内。"
   ]
  },
  {
   "cell_type": "code",
   "execution_count": 46,
   "metadata": {},
   "outputs": [
    {
     "name": "stdout",
     "output_type": "stream",
     "text": [
      "uniform(5, 10) 的随机数为 :  9.38073402181\n"
     ]
    }
   ],
   "source": [
    "import random\n",
    "\n",
    "print \"uniform(5, 10) 的随机数为 : \",  random.uniform(5, 10)"
   ]
  },
  {
   "cell_type": "markdown",
   "metadata": {},
   "source": [
    "del 删除函数"
   ]
  },
  {
   "cell_type": "code",
   "execution_count": null,
   "metadata": {
    "collapsed": true
   },
   "outputs": [],
   "source": [
    ">>> dataIndex = range(m)\n",
    ">>> print dataIndex\n",
    "[0, 1, 2, 3, 4, 5, 6, 7, 8, 9, 10, 11, 12, 13, 14, 15, 16, 17, 18, 19, 20, 21, 22, 23, 24, 25, 26, 27, 28, 29, 30, 31, 32, 33, 34, 35, 36, 37, 38, 39, 40, 41, 42, 43, 44, 45, 46, 47, 48, 49, 50, 51, 52, 53, 54, 55, 56, 57, 58, 59, 60, 61, 62, 63, 64, 65, 66, 67, 68, 69, 70, 71, 72, 73, 74, 75, 76, 77, 78, 79, 80, 81, 82, 83, 84, 85, 86, 87, 88, 89, 90, 91, 92, 93, 94, 95, 96, 97, 98, 99]\n",
    ">>> randIndex = int(random.uniform(0,len(dataIndex)))\n",
    ">>> print randIndex\n",
    "66\n",
    ">>> del(dataIndex[randIndex])\n",
    ">>> print dataIndex\n",
    "[0, 1, 2, 3, 4, 5, 6, 7, 8, 9, 10, 11, 12, 13, 14, 15, 16, 17, 18, 19, 20, 21, 22, 23, 24, 25, 26, 27, 28, 29, 30, 31, 32, 33, 34, 35, 36, 37, 38, 39, 40, 41, 42, 43, 44, 45, 46, 47, 48, 49, 50, 51, 52, 53, 54, 55, 56, 57, 58, 59, 60, 61, 62, 63, 64, 65, 67, 68, 69, 70, 71, 72, 73, 74, 75, 76, 77, 78, 79, 80, 81, 82, 83, 84, 85, 86, 87, 88, 89, 90, 91, 92, 93, 94, 95, 96, 97, 98, 99]\n",
    ">>> print dataIndex[66]\n",
    "67"
   ]
  },
  {
   "cell_type": "markdown",
   "metadata": {},
   "source": [
    "测试代码："
   ]
  },
  {
   "cell_type": "code",
   "execution_count": 41,
   "metadata": {},
   "outputs": [
    {
     "data": {
      "image/png": "[encoded data removed]",
      "text/plain": [
       "<matplotlib.figure.Figure at 0x114183690>"
      ]
     },
     "metadata": {},
     "output_type": "display_data"
    }
   ],
   "source": [
    "dataArr,labelMat = logRegres.loadDataSet()\n",
    "weights = logRegres.stocGradAscent1(array(dataArr),labelMat,150)\n",
    "logRegres.plotBestFit(weights)"
   ]
  },
  {
   "cell_type": "markdown",
   "metadata": {},
   "source": [
    "修改迭代次数："
   ]
  },
  {
   "cell_type": "code",
   "execution_count": 45,
   "metadata": {},
   "outputs": [
    {
     "data": {
      "image/png": "[encoded data removed]",
      "text/plain": [
       "<matplotlib.figure.Figure at 0x112d994d0>"
      ]
     },
     "metadata": {},
     "output_type": "display_data"
    }
   ],
   "source": [
    "dataArr,labelMat = logRegres.loadDataSet()\n",
    "weights = logRegres.stocGradAscent1(array(dataArr),labelMat,10)\n",
    "logRegres.plotBestFit(weights)"
   ]
  },
  {
   "cell_type": "markdown",
   "metadata": {},
   "source": [
    "记住看图对比的时候，要看这个分割线而不是数据点的分布。"
   ]
  },
  {
   "cell_type": "code",
   "execution_count": 33,
   "metadata": {},
   "outputs": [
    {
     "name": "stdout",
     "output_type": "stream",
     "text": [
      "[ 12.43535659   1.14645462  -1.9686869 ]\n"
     ]
    },
    {
     "data": {
      "image/png": "[encoded data removed]",
      "text/plain": [
       "<matplotlib.figure.Figure at 0x112fd5090>"
      ]
     },
     "metadata": {},
     "output_type": "display_data"
    }
   ],
   "source": [
    "from numpy import *\n",
    "import matplotlib\n",
    "import matplotlib.pyplot as plt\n",
    "from matplotlib.patches import Rectangle\n",
    "import logRegres\n",
    "\n",
    "def stocGradAscent0(dataMatrix, classLabels):\n",
    "    m,n = shape(dataMatrix)\n",
    "    alpha = 0.5\n",
    "    weights = ones(n)   #initialize to all ones\n",
    "    weightsHistory=zeros((500*m,n))\n",
    "    for j in range(500):\n",
    "        for i in range(m):\n",
    "            h = logRegres.sigmoid(sum(dataMatrix[i]*weights))\n",
    "            error = classLabels[i] - h\n",
    "            weights = weights + alpha * error * dataMatrix[i]\n",
    "            weightsHistory[j*m + i,:] = weights\n",
    "    return weightsHistory\n",
    "\n",
    "def stocGradAscent1(dataMatrix, classLabels):\n",
    "    m,n = shape(dataMatrix)\n",
    "    alpha = 0.4\n",
    "    weights = ones(n)   #initialize to all ones\n",
    "    weightsHistory=zeros((40*m,n))\n",
    "    for j in range(40):\n",
    "        dataIndex = range(m)\n",
    "        for i in range(m):\n",
    "            alpha = 4/(1.0+j+i)+0.01\n",
    "            randIndex = int(random.uniform(0,len(dataIndex)))\n",
    "            h = logRegres.sigmoid(sum(dataMatrix[randIndex]*weights))\n",
    "            error = classLabels[randIndex] - h\n",
    "            #print error\n",
    "            weights = weights + alpha * error * dataMatrix[randIndex]\n",
    "            weightsHistory[j*m + i,:] = weights\n",
    "            del(dataIndex[randIndex])\n",
    "    print weights\n",
    "    return weightsHistory\n",
    "    \n",
    "\n",
    "dataMat,labelMat=logRegres.loadDataSet()\n",
    "dataArr = array(dataMat)\n",
    "myHist = stocGradAscent1(dataArr,labelMat)\n",
    "\n",
    "\n",
    "n = shape(dataArr)[0] #number of points to create\n",
    "xcord1 = []; ycord1 = []\n",
    "xcord2 = []; ycord2 = []\n",
    "\n",
    "markers =[]\n",
    "colors =[]\n",
    "\n",
    "\n",
    "fig = plt.figure()\n",
    "ax = fig.add_subplot(311)\n",
    "type1 = ax.plot(myHist[:,0])\n",
    "plt.ylabel('X0')\n",
    "ax = fig.add_subplot(312)\n",
    "type1 = ax.plot(myHist[:,1])\n",
    "plt.ylabel('X1')\n",
    "ax = fig.add_subplot(313)\n",
    "type1 = ax.plot(myHist[:,2])\n",
    "plt.xlabel('iteration')\n",
    "plt.ylabel('X2')\n",
    "plt.show()"
   ]
  },
  {
   "cell_type": "code",
   "execution_count": null,
   "metadata": {
    "collapsed": true,
    "pycharm": {
     "is_executing": true
    }
   },
   "outputs": [],
   "source": [
    "import Logistic\n",
    "dataMat, labelMat = loadDataSet()\n",
    "# 梯度上升法\n",
    "weights2, weights_array2 = Logistic.gradAscent(dataMat, labelMat)\n",
    "plotBestFit(weights2)\n",
    "print(Logistic.gradAscent(dataMat, labelMat))\n"
   ]
  },
  {
   "cell_type": "code",
   "execution_count": null,
   "metadata": {
    "collapsed": true,
    "pycharm": {
     "is_executing": true
    }
   },
   "outputs": [],
   "source": [
    "#随机梯度上升法\n",
    "weights0 = Logistic.stocGradAscent0(np.array(dataMat), labelMat)\n",
    "plotBestFit(weights0)"
   ]
  },
  {
   "cell_type": "code",
   "execution_count": null,
   "metadata": {
    "collapsed": true,
    "pycharm": {
     "is_executing": true
    }
   },
   "outputs": [],
   "source": [
    "# 改进的随机梯度上升法\n",
    "weights1, weights_array1 = Logistic.stocGradAscent1(np.array(dataMat), labelMat)\n",
    "plotBestFit(weights1)\n",
    "print(Logistic.stocGradAscent1(dataMat, labelMat))"
   ]
  },
  {
   "cell_type": "code",
   "execution_count": null,
   "metadata": {
    "collapsed": true
   },
   "outputs": [],
   "source": []
  },
  {
   "cell_type": "code",
   "execution_count": null,
   "metadata": {
    "collapsed": true
   },
   "outputs": [],
   "source": []
  }
 ],
 "metadata": {
  "kernelspec": {
   "display_name": "Python 2",
   "language": "python",
   "name": "python2"
  },
  "language_info": {
   "codemirror_mode": {
    "name": "ipython",
    "version": 2
   },
   "file_extension": ".py",
   "mimetype": "text/x-python",
   "name": "python",
   "nbconvert_exporter": "python",
   "pygments_lexer": "ipython2",
   "version": "2.7.13"
  }
 },
 "nbformat": 4,
 "nbformat_minor": 2
}
