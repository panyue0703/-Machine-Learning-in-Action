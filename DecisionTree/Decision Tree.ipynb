{
 "cells": [
  {
   "cell_type": "markdown",
   "metadata": {},
   "source": [
    "# <center>Decision Tree 决策树</center>\n",
    "使用概率测量方法处理分类问题\n",
    "\n",
    "\n",
    "分类系统：\n",
    "* decision block 判断模块    长方形\n",
    "* terminating block  终止模块  得出的结论  椭圆\n",
    "* branch 分支  左右箭头\n",
    "![1.png](1.png)\n",
    "（专家系统）\n",
    "\n",
    "决策树的原理： __通过推断分解，逐步缩小待猜测实物的范围。__\n",
    "\n",
    "决策树的一个重要任务是为了理解数据中所蕴含的知识信息。\n",
    " \n",
    "* 优势：计算复杂度不高，输出结果易于理解，对中间值得缺失不敏感，可以处理不相关特征数据\n",
    "* 缺点：可能会产生过度匹配的问题\n",
    "* 适用数据类型：数值型和标称型\n",
    "\n"
   ]
  },
  {
   "cell_type": "markdown",
   "metadata": {
    "collapsed": true
   },
   "source": [
    "##  3.1 决策树的构造\n",
    "\n",
    "##   信息论划分数据集\n",
    "### 问题1：当前数据集的哪些特征在划分数据类型起决定性作用？\n",
    "     方法：评估每个特征\n",
    "     "
   ]
  },
  {
   "cell_type": "markdown",
   "metadata": {},
   "source": [
    "### 3.1.1 信息增益\n",
    "__含义：在划分数据集之间之后信息发生的变化称为*信息增益*__\n",
    "\n",
    "__The change in information before and after the split is known as the *information gain*.__\n",
    "\n",
    "获得信息增益最高的特征就是最好的选择。\n",
    "\n",
    "#### 计算信息增益\n",
    "集合信息的度量方式称为__香农熵__ 或者简称为 __熵__  (信息论之父劳克德.香农)\n",
    "* 熵 entrop \n",
    "\n",
    "  定义：信息的期望\n",
    "  __信息__："
   ]
  },
  {
   "cell_type": "markdown",
   "metadata": {},
   "source": [
    "如果待分类的事务可能划分在多个分类之中，则符号$x_i$的信息定义为:\n",
    "    $$ l(x_i) = -\\log_{2}{p(x_i)} $$\n",
    "其中$p(x_i)$是该选择分类的概率"
   ]
  },
  {
   "cell_type": "markdown",
   "metadata": {},
   "source": [
    "所有类别所有可能值包含的信息期望值：$$p(x_i) =\\frac{x_i}{n}$$\n",
    "\n",
    "## 熵的计算公式：\n",
    "\n",
    "$$ H = -\\sum_{i=1}^{n}{p(x_i)\\log_{2}{p(x_i)}}$$\n",
    "n为分类的数目"
   ]
  },
  {
   "cell_type": "markdown",
   "metadata": {},
   "source": [
    "### 计算香农熵代码："
   ]
  },
  {
   "cell_type": "code",
   "execution_count": 8,
   "metadata": {
    "collapsed": true
   },
   "outputs": [],
   "source": [
    "import tree\n",
    "import treePlotter"
   ]
  },
  {
   "cell_type": "code",
   "execution_count": 7,
   "metadata": {},
   "outputs": [
    {
     "name": "stdout",
     "output_type": "stream",
     "text": [
      "[[1, 1, 'yes'], [1, 1, 'yes'], [1, 0, 'no'], [0, 1, 'no'], [0, 1, 'no']]\n"
     ]
    }
   ],
   "source": [
    "def createDataSet():\n",
    "    dataSet = [[1, 1, 'yes'],\n",
    "               [1, 1, 'yes'],\n",
    "               [1, 0, 'no'],\n",
    "               [0, 1, 'no'],\n",
    "               [0, 1, 'no']]\n",
    "    labels = ['no surfacing','flippers']\n",
    "    #change to discrete values\n",
    "    return dataSet, labels\n",
    "\n",
    "myDat, labels1 = createDataSet()\n",
    "print(myDat)"
   ]
  },
  {
   "cell_type": "code",
   "execution_count": 9,
   "metadata": {},
   "outputs": [
    {
     "data": {
      "text/plain": "0.9709505944546686"
     },
     "execution_count": 9,
     "metadata": {},
     "output_type": "execute_result"
    }
   ],
   "source": [
    "tree.calcShannonEnt(myDat) #计算香农熵"
   ]
  },
  {
   "cell_type": "markdown",
   "metadata": {},
   "source": [
    "__信息熵越高，则混合的数据越多__"
   ]
  },
  {
   "cell_type": "code",
   "execution_count": 10,
   "metadata": {
    "collapsed": true
   },
   "outputs": [],
   "source": [
    "myDat[0][-1] = 'maybe' #二维数组嘛~~"
   ]
  },
  {
   "cell_type": "code",
   "execution_count": 11,
   "metadata": {},
   "outputs": [
    {
     "data": {
      "text/plain": "[[1, 1, 'maybe'], [1, 1, 'yes'], [1, 0, 'no'], [0, 1, 'no'], [0, 1, 'no']]"
     },
     "execution_count": 11,
     "metadata": {},
     "output_type": "execute_result"
    }
   ],
   "source": [
    "myDat"
   ]
  },
  {
   "cell_type": "code",
   "execution_count": 12,
   "metadata": {},
   "outputs": [
    {
     "data": {
      "text/plain": "1.3709505944546687"
     },
     "execution_count": 12,
     "metadata": {},
     "output_type": "execute_result"
    }
   ],
   "source": [
    "tree.calcShannonEnt(myDat)"
   ]
  },
  {
   "cell_type": "code",
   "execution_count": 13,
   "metadata": {
    "collapsed": true
   },
   "outputs": [],
   "source": [
    "myDat[0][-1] = 'no'\n",
    "myDat[1][-1] = 'no'"
   ]
  },
  {
   "cell_type": "code",
   "execution_count": 14,
   "metadata": {},
   "outputs": [
    {
     "data": {
      "text/plain": "[[1, 1, 'no'], [1, 1, 'no'], [1, 0, 'no'], [0, 1, 'no'], [0, 1, 'no']]"
     },
     "execution_count": 14,
     "metadata": {},
     "output_type": "execute_result"
    }
   ],
   "source": [
    "myDat"
   ]
  },
  {
   "cell_type": "code",
   "execution_count": 15,
   "metadata": {},
   "outputs": [
    {
     "data": {
      "text/plain": "0.0"
     },
     "execution_count": 15,
     "metadata": {},
     "output_type": "execute_result"
    }
   ],
   "source": [
    "tree.calcShannonEnt(myDat)"
   ]
  },
  {
   "cell_type": "markdown",
   "metadata": {},
   "source": [
    "__以上实验可以看出，当数据中不存在异类时，信息熵为0（即数据的混乱度无零）__"
   ]
  },
  {
   "cell_type": "markdown",
   "metadata": {},
   "source": [
    "### 3.1.2 划分数据集"
   ]
  },
  {
   "cell_type": "markdown",
   "metadata": {},
   "source": [
    "* 信息增益 information gain 熵的减少或者数据无序度的减少"
   ]
  },
  {
   "cell_type": "markdown",
   "metadata": {},
   "source": [
    "### 数据划分思路：对每个特征划分数据集的结果计算一次信息熵，然后判断按照哪个特征划分数据是最好的划分方法。"
   ]
  },
  {
   "cell_type": "markdown",
   "metadata": {},
   "source": [
    "#### 3-2 按照给定特征划分数据集"
   ]
  },
  {
   "cell_type": "code",
   "execution_count": 17,
   "metadata": {
    "collapsed": true
   },
   "outputs": [
    {
     "data": {
      "text/plain": "[[1, 'yes'], [1, 'yes'], [0, 'no']]"
     },
     "execution_count": 17,
     "metadata": {},
     "output_type": "execute_result"
    }
   ],
   "source": [
    "myDat,labeks = createDataSet()\n",
    "myDat\n",
    "import tree\n",
    "tree.splitDataSet(myDat,0,1)"
   ]
  },
  {
   "cell_type": "code",
   "execution_count": 16,
   "metadata": {},
   "outputs": [
    {
     "data": {
      "text/plain": "[[1, 'no'], [1, 'no']]"
     },
     "execution_count": 16,
     "metadata": {},
     "output_type": "execute_result"
    }
   ],
   "source": [
    "tree.splitDataSet(myDat,0,0)"
   ]
  },
  {
   "cell_type": "markdown",
   "metadata": {},
   "source": [
    "#### 3-3 选择最好的数据划分方式\n",
    "循环计算香农熵和splitDataSet()函数，找到最好的特征划分方式。\n",
    "\n",
    "__熵计算__将会告诉我们如何划分__数据集是最好的数据组织方式__"
   ]
  },
  {
   "cell_type": "code",
   "execution_count": 18,
   "metadata": {
    "collapsed": true
   },
   "outputs": [],
   "source": [
    "mayDat,labels = createDataSet()"
   ]
  },
  {
   "cell_type": "code",
   "execution_count": 19,
   "metadata": {},
   "outputs": [
    {
     "data": {
      "text/plain": "0"
     },
     "execution_count": 19,
     "metadata": {},
     "output_type": "execute_result"
    }
   ],
   "source": [
    "tree.chooseBestFeatureToSplit_ID3(myDat)"
   ]
  },
  {
   "cell_type": "code",
   "execution_count": 20,
   "metadata": {},
   "outputs": [
    {
     "data": {
      "text/plain": "[[1, 1, 'yes'], [1, 1, 'yes'], [1, 0, 'no'], [0, 1, 'no'], [0, 1, 'no']]"
     },
     "execution_count": 20,
     "metadata": {},
     "output_type": "execute_result"
    }
   ],
   "source": [
    "myDat"
   ]
  },
  {
   "cell_type": "code",
   "execution_count": 21,
   "metadata": {},
   "outputs": [
    {
     "data": {
      "text/plain": "0"
     },
     "execution_count": 21,
     "metadata": {},
     "output_type": "execute_result"
    }
   ],
   "source": [
    "tree.chooseBestFeatureToSplit_C45(myDat)"
   ]
  },
  {
   "cell_type": "code",
   "execution_count": 34,
   "outputs": [
    {
     "data": {
      "text/plain": "[[1, 1, 'yes'], [1, 1, 'yes'], [1, 0, 'no'], [0, 1, 'no'], [0, 1, 'no']]"
     },
     "execution_count": 34,
     "metadata": {},
     "output_type": "execute_result"
    }
   ],
   "source": [
    "myDat"
   ],
   "metadata": {
    "collapsed": false
   }
  },
  {
   "cell_type": "code",
   "execution_count": 22,
   "metadata": {},
   "outputs": [
    {
     "data": {
      "text/plain": "0"
     },
     "execution_count": 22,
     "metadata": {},
     "output_type": "execute_result"
    }
   ],
   "source": [
    "tree.chooseBestFeature_CART(myDat)"
   ]
  },
  {
   "cell_type": "code",
   "execution_count": 35,
   "outputs": [
    {
     "data": {
      "text/plain": "[[1, 1, 'yes'], [1, 1, 'yes'], [1, 0, 'no'], [0, 1, 'no'], [0, 1, 'no']]"
     },
     "execution_count": 35,
     "metadata": {},
     "output_type": "execute_result"
    }
   ],
   "source": [
    "myDat"
   ],
   "metadata": {
    "collapsed": false
   }
  },
  {
   "cell_type": "markdown",
   "metadata": {},
   "source": [
    "0的含义是 数据集按照第一个特征属性进行划分。也就是说第一个特征是1的放在一组，第一个特征是0的放在一组。"
   ]
  },
  {
   "cell_type": "markdown",
   "metadata": {},
   "source": [
    "### 3.1.3 递归构建决策树"
   ]
  },
  {
   "cell_type": "markdown",
   "metadata": {},
   "source": [
    "工作原理：得到原始数据集，然后基于最好的属性划分进行数据分类。第一次划分完之后，数据将被向下传递到树的分支的下一个节点。在这个节点上，我们可以再次划分数据。采用递归的方法。\n",
    "\n",
    "递归结束条件：程序遍历完所有划分数据的属性。或者每个分支下的所有势力都具有相同的分类。\n",
    "\n",
    "如果属性都使用完了：但标签还不唯一，就采用__多数表决__的方法决定该叶子节点的分类。"
   ]
  },
  {
   "cell_type": "markdown",
   "metadata": {},
   "source": [
    "#### 3-4 创建树的函数代码"
   ]
  },
  {
   "cell_type": "code",
   "execution_count": 23,
   "metadata": {
    "collapsed": true
   },
   "outputs": [],
   "source": [
    "myDat,labels = createDataSet()"
   ]
  },
  {
   "cell_type": "code",
   "execution_count": 24,
   "metadata": {},
   "outputs": [
    {
     "data": {
      "text/plain": "[[1, 1, 'yes'], [1, 1, 'yes'], [1, 0, 'no'], [0, 1, 'no'], [0, 1, 'no']]"
     },
     "execution_count": 24,
     "metadata": {},
     "output_type": "execute_result"
    }
   ],
   "source": [
    "myDat"
   ]
  },
  {
   "cell_type": "code",
   "execution_count": 25,
   "metadata": {},
   "outputs": [
    {
     "data": {
      "text/plain": "['no surfacing', 'flippers']"
     },
     "execution_count": 25,
     "metadata": {},
     "output_type": "execute_result"
    }
   ],
   "source": [
    "labels"
   ]
  },
  {
   "cell_type": "code",
   "execution_count": 26,
   "metadata": {},
   "outputs": [
    {
     "name": "stdout",
     "output_type": "stream",
     "text": [
      "此时最优索引为：no surfacing\n",
      "此时最优索引为：flippers\n"
     ]
    }
   ],
   "source": [
    "myDat,labels = createDataSet()\n",
    "myTree = tree.createTree_ID3(myDat,labels)"
   ]
  },
  {
   "cell_type": "code",
   "execution_count": 27,
   "metadata": {},
   "outputs": [
    {
     "data": {
      "text/plain": "{'no surfacing': {0: 'no', 1: {'flippers': {0: 'no', 1: 'yes'}}}}"
     },
     "execution_count": 27,
     "metadata": {},
     "output_type": "execute_result"
    }
   ],
   "source": [
    "myTree"
   ]
  },
  {
   "cell_type": "code",
   "execution_count": 28,
   "outputs": [],
   "source": [
    "treePlotter.createPlot(myTree)"
   ],
   "metadata": {
    "collapsed": false
   }
  },
  {
   "cell_type": "code",
   "execution_count": 29,
   "metadata": {},
   "outputs": [
    {
     "name": "stdout",
     "output_type": "stream",
     "text": [
      "此时最优索引为：no surfacing\n",
      "此时最优索引为：flippers\n"
     ]
    }
   ],
   "source": [
    "myDat,labels = createDataSet()\n",
    "myTree1 = tree.createTree_C45(myDat,labels)"
   ]
  },
  {
   "cell_type": "code",
   "execution_count": 30,
   "metadata": {},
   "outputs": [
    {
     "data": {
      "text/plain": "{'no surfacing': {0: 'no', 1: {'flippers': {0: 'no', 1: 'yes'}}}}"
     },
     "execution_count": 30,
     "metadata": {},
     "output_type": "execute_result"
    }
   ],
   "source": [
    "myTree1"
   ]
  },
  {
   "cell_type": "code",
   "execution_count": 38,
   "outputs": [],
   "source": [
    "treePlotter.createPlot(myTree1)"
   ],
   "metadata": {
    "collapsed": false
   }
  },
  {
   "cell_type": "code",
   "execution_count": 32,
   "metadata": {},
   "outputs": [
    {
     "name": "stdout",
     "output_type": "stream",
     "text": [
      "此时最优索引为：no surfacing\n",
      "此时最优索引为：flippers\n"
     ]
    }
   ],
   "source": [
    "myDat,labels = createDataSet()\n",
    "myTree2 = tree.createTree_CART(myDat,labels)"
   ]
  },
  {
   "cell_type": "code",
   "execution_count": 33,
   "outputs": [
    {
     "data": {
      "text/plain": "{'no surfacing': {0: 'no', 1: {'flippers': {0: 'no', 1: 'yes'}}}}"
     },
     "execution_count": 33,
     "metadata": {},
     "output_type": "execute_result"
    }
   ],
   "source": [
    "myTree2"
   ],
   "metadata": {
    "collapsed": false
   }
  },
  {
   "cell_type": "code",
   "execution_count": 6,
   "metadata": {},
   "outputs": [
    {
     "ename": "NameError",
     "evalue": "name 'treePlotter' is not defined",
     "output_type": "error",
     "traceback": [
      "\u001B[1;31m---------------------------------------------------------------------------\u001B[0m",
      "\u001B[1;31mNameError\u001B[0m                                 Traceback (most recent call last)",
      "Cell \u001B[1;32mIn [6], line 1\u001B[0m\n\u001B[1;32m----> 1\u001B[0m \u001B[43mtreePlotter\u001B[49m\u001B[38;5;241m.\u001B[39mcreatePlot(myTree2)\n",
      "\u001B[1;31mNameError\u001B[0m: name 'treePlotter' is not defined"
     ]
    }
   ],
   "source": [
    "treePlotter.createPlot(myTree2)"
   ]
  },
  {
   "cell_type": "markdown",
   "source": [],
   "metadata": {
    "collapsed": false
   }
  },
  {
   "cell_type": "code",
   "execution_count": 7,
   "outputs": [],
   "source": [
    "import tree\n",
    "import treePlotter\n",
    "def createDataSet():\n",
    "    dataSet = [[1, 1, 'yes'],\n",
    "               [1, 1, 'yes'],\n",
    "               [1, 0, 'no'],\n",
    "               [0, 1, 'no'],\n",
    "               [0, 1, 'no']]\n",
    "    labels = ['no surfacing','flippers']\n",
    "    #change to discrete values\n",
    "    return dataSet, labels"
   ],
   "metadata": {
    "collapsed": false
   }
  },
  {
   "cell_type": "code",
   "execution_count": 8,
   "outputs": [
    {
     "name": "stdout",
     "output_type": "stream",
     "text": [
      "此时最优索引为：no surfacing\n"
     ]
    },
    {
     "ename": "ZeroDivisionError",
     "evalue": "division by zero",
     "output_type": "error",
     "traceback": [
      "\u001B[1;31m---------------------------------------------------------------------------\u001B[0m",
      "\u001B[1;31mZeroDivisionError\u001B[0m                         Traceback (most recent call last)",
      "Cell \u001B[1;32mIn [8], line 3\u001B[0m\n\u001B[0;32m      1\u001B[0m testfile \u001B[38;5;241m=\u001B[39m \u001B[38;5;124m'\u001B[39m\u001B[38;5;124mtestset.txt\u001B[39m\u001B[38;5;124m'\u001B[39m\n\u001B[0;32m      2\u001B[0m myDat,labels \u001B[38;5;241m=\u001B[39m createDataSet()\n\u001B[1;32m----> 3\u001B[0m myTree3\u001B[38;5;241m=\u001B[39m\u001B[43mtree\u001B[49m\u001B[38;5;241;43m.\u001B[39;49m\u001B[43mID3_createTree\u001B[49m\u001B[43m(\u001B[49m\u001B[43mmyDat\u001B[49m\u001B[43m,\u001B[49m\u001B[43mlabels\u001B[49m\u001B[43m,\u001B[49m\u001B[43mtestfile\u001B[49m\u001B[43m)\u001B[49m\n\u001B[0;32m      4\u001B[0m treePlotter\u001B[38;5;241m.\u001B[39mcreatePlot(myTree3)\n",
      "File \u001B[1;32mE:\\MyCode\\Python\\Machine-Learning-in-Action\\DecisionTree\\tree.py:448\u001B[0m, in \u001B[0;36mID3_createTree\u001B[1;34m(dataset, labels, test_dataset)\u001B[0m\n\u001B[0;32m    446\u001B[0m     leaf_output \u001B[38;5;241m=\u001B[39m result_counter\u001B[38;5;241m.\u001B[39mmost_common(\u001B[38;5;241m1\u001B[39m)[\u001B[38;5;241m0\u001B[39m][\u001B[38;5;241m0\u001B[39m]\n\u001B[0;32m    447\u001B[0m     outputs \u001B[38;5;241m+\u001B[39m\u001B[38;5;241m=\u001B[39m [leaf_output] \u001B[38;5;241m*\u001B[39m \u001B[38;5;28mlen\u001B[39m(cut_testset)\n\u001B[1;32m--> 448\u001B[0m cut_acc \u001B[38;5;241m=\u001B[39m \u001B[43mcal_acc\u001B[49m\u001B[43m(\u001B[49m\u001B[43mtest_output\u001B[49m\u001B[38;5;241;43m=\u001B[39;49m\u001B[43moutputs\u001B[49m\u001B[43m,\u001B[49m\u001B[43m \u001B[49m\u001B[43mlabel\u001B[49m\u001B[38;5;241;43m=\u001B[39;49m\u001B[43mans\u001B[49m\u001B[43m)\u001B[49m\n\u001B[0;32m    450\u001B[0m \u001B[38;5;28;01mif\u001B[39;00m cut_acc \u001B[38;5;241m<\u001B[39m\u001B[38;5;241m=\u001B[39m root_acc:\n\u001B[0;32m    451\u001B[0m     \u001B[38;5;28;01mreturn\u001B[39;00m leaf_output\n",
      "File \u001B[1;32mE:\\MyCode\\Python\\Machine-Learning-in-Action\\DecisionTree\\tree.py:491\u001B[0m, in \u001B[0;36mcal_acc\u001B[1;34m(test_output, label)\u001B[0m\n\u001B[0;32m    488\u001B[0m     \u001B[38;5;28;01mif\u001B[39;00m test_output[index] \u001B[38;5;241m==\u001B[39m label[index]:\n\u001B[0;32m    489\u001B[0m         count \u001B[38;5;241m+\u001B[39m\u001B[38;5;241m=\u001B[39m \u001B[38;5;241m1\u001B[39m\n\u001B[1;32m--> 491\u001B[0m \u001B[38;5;28;01mreturn\u001B[39;00m \u001B[38;5;28mfloat\u001B[39m(\u001B[43mcount\u001B[49m\u001B[43m \u001B[49m\u001B[38;5;241;43m/\u001B[39;49m\u001B[43m \u001B[49m\u001B[38;5;28;43mlen\u001B[39;49m\u001B[43m(\u001B[49m\u001B[43mtest_output\u001B[49m\u001B[43m)\u001B[49m)\n",
      "\u001B[1;31mZeroDivisionError\u001B[0m: division by zero"
     ]
    }
   ],
   "source": [
    "testfile = 'testset.txt'\n",
    "myDat,labels = createDataSet()\n",
    "myTree3=tree.ID3_createTree(myDat,labels,testfile)\n",
    "treePlotter.createPlot(myTree3)"
   ],
   "metadata": {
    "collapsed": false
   }
  },
  {
   "cell_type": "markdown",
   "metadata": {},
   "source": []
  },
  {
   "cell_type": "code",
   "execution_count": null,
   "metadata": {},
   "outputs": [],
   "source": []
  },
  {
   "cell_type": "markdown",
   "metadata": {
    "collapsed": true
   },
   "source": [
    "### 3.2.2 构造注解树\n",
    "知道有多少叶节点，确定x轴的长度   getNumLeafs(myTree):\n",
    "\n",
    "知道树有多少层，确定y轴的高度    getTreeDepth(myTree):"
   ]
  },
  {
   "cell_type": "code",
   "execution_count": null,
   "metadata": {
    "collapsed": true
   },
   "outputs": [],
   "source": [
    "x = treePlotter.getNumLeafs(myTree)"
   ]
  },
  {
   "cell_type": "code",
   "execution_count": null,
   "metadata": {
    "collapsed": true
   },
   "outputs": [],
   "source": [
    "x"
   ]
  },
  {
   "cell_type": "code",
   "execution_count": null,
   "metadata": {
    "collapsed": true
   },
   "outputs": [],
   "source": [
    "y = treePlotter.getTreeDepth(myTree)"
   ]
  },
  {
   "cell_type": "code",
   "execution_count": null,
   "outputs": [],
   "source": [
    "y"
   ],
   "metadata": {
    "collapsed": false
   }
  },
  {
   "cell_type": "code",
   "execution_count": null,
   "outputs": [],
   "source": [
    "treePlotter.createPlot(myTree)"
   ],
   "metadata": {
    "collapsed": false
   }
  },
  {
   "cell_type": "markdown",
   "source": [],
   "metadata": {
    "collapsed": false
   }
  },
  {
   "cell_type": "markdown",
   "metadata": {},
   "source": [
    "## 3.3测试和储存分类器"
   ]
  },
  {
   "cell_type": "code",
   "execution_count": null,
   "metadata": {
    "collapsed": true
   },
   "outputs": [],
   "source": []
  },
  {
   "cell_type": "code",
   "execution_count": null,
   "metadata": {
    "collapsed": true
   },
   "outputs": [],
   "source": []
  },
  {
   "cell_type": "code",
   "execution_count": null,
   "metadata": {
    "collapsed": true
   },
   "outputs": [],
   "source": []
  },
  {
   "cell_type": "code",
   "execution_count": null,
   "metadata": {
    "collapsed": true
   },
   "outputs": [],
   "source": []
  },
  {
   "cell_type": "markdown",
   "metadata": {},
   "source": [
    "## 3.4示例：使用决策树预测隐形眼镜的类型"
   ]
  },
  {
   "cell_type": "code",
   "execution_count": null,
   "metadata": {
    "collapsed": true
   },
   "outputs": [],
   "source": []
  }
 ],
 "metadata": {
  "kernelspec": {
   "display_name": "Python 3 (ipykernel)",
   "language": "python",
   "name": "python3"
  },
  "language_info": {
   "codemirror_mode": {
    "name": "ipython",
    "version": 3
   },
   "file_extension": ".py",
   "mimetype": "text/x-python",
   "name": "python",
   "nbconvert_exporter": "python",
   "pygments_lexer": "ipython3",
   "version": "3.10.7"
  }
 },
 "nbformat": 4,
 "nbformat_minor": 2
}
