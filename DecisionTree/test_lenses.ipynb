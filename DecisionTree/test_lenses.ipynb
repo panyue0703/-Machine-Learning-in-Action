{
 "cells": [
  {
   "cell_type": "code",
   "execution_count": 28,
   "metadata": {},
   "outputs": [],
   "source": [
    "import tree\n",
    "import treePlotter"
   ]
  },
  {
   "cell_type": "code",
   "execution_count": 27,
   "metadata": {},
   "outputs": [
    {
     "name": "stdout",
     "output_type": "stream",
     "text": [
      "此时最优索引为：tearRate\n",
      "此时最优索引为：astigmatic\n",
      "此时最优索引为：age\n",
      "此时最优索引为：prescript\n",
      "此时最优索引为：prescript\n",
      "此时最优索引为：age\n"
     ]
    }
   ],
   "source": [
    "fr=open('lenses.txt')\n",
    "lenses = [inst.strip().split('\\t') for inst in fr.readlines()]\n",
    "lensesLabels=['age','prescript','astigmatic','tearRate']\n",
    "lensesTree = tree.createTree_ID3(lenses,lensesLabels)"
   ]
  },
  {
   "cell_type": "code",
   "execution_count": 29,
   "metadata": {},
   "outputs": [],
   "source": [
    "treePlotter.createPlot(lensesTree)"
   ]
  },
  {
   "cell_type": "code",
   "execution_count": 30,
   "metadata": {},
   "outputs": [],
   "source": [
    "fr=open('lenses.txt')\n",
    "lenses1 = [inst.strip().split('\\t') for inst in fr.readlines()]\n",
    "lensesLabels=['age','prescript','astigmatic','tearRate']\n",
    "lensesTree1 = tree.createTree_C45(lenses1,lensesLabels)"
   ]
  },
  {
   "cell_type": "code",
   "execution_count": 8,
   "metadata": {},
   "outputs": [
    {
     "name": "stdout",
     "output_type": "stream",
     "text": [
      "此时最优索引为：age\n",
      "此时最优索引为：prescript\n",
      "此时最优索引为：astigmatic\n",
      "此时最优索引为：tearRate\n",
      "此时最优索引为：tearRate\n",
      "此时最优索引为：astigmatic\n",
      "此时最优索引为：tearRate\n",
      "此时最优索引为：tearRate\n",
      "此时最优索引为：prescript\n",
      "此时最优索引为：astigmatic\n",
      "此时最优索引为：tearRate\n",
      "此时最优索引为：astigmatic\n",
      "此时最优索引为：tearRate\n",
      "此时最优索引为：prescript\n",
      "此时最优索引为：astigmatic\n",
      "此时最优索引为：tearRate\n",
      "此时最优索引为：astigmatic\n",
      "此时最优索引为：tearRate\n",
      "此时最优索引为：tearRate\n"
     ]
    }
   ],
   "source": [
    "fr=open('lenses.txt')\n",
    "lenses2 = [inst.strip().split('\\t') for inst in fr.readlines()]\n",
    "lensesLabels=['age','prescript','astigmatic','tearRate']\n",
    "lensesTree2 = tree.createTree_CART(lenses2,lensesLabels)"
   ]
  },
  {
   "cell_type": "code",
   "execution_count": null,
   "metadata": {},
   "outputs": [],
   "source": [
    "import treePlotter"
   ]
  },
  {
   "cell_type": "code",
   "execution_count": 9,
   "metadata": {},
   "outputs": [
    {
     "ename": "NameError",
     "evalue": "name 'treePlotter' is not defined",
     "output_type": "error",
     "traceback": [
      "\u001b[1;31m---------------------------------------------------------------------------\u001b[0m",
      "\u001b[1;31mNameError\u001b[0m                                 Traceback (most recent call last)",
      "Cell \u001b[1;32mIn [9], line 1\u001b[0m\n\u001b[1;32m----> 1\u001b[0m \u001b[43mtreePlotter\u001b[49m\u001b[38;5;241m.\u001b[39mcreatePlot(lensesTree)\n",
      "\u001b[1;31mNameError\u001b[0m: name 'treePlotter' is not defined"
     ]
    }
   ],
   "source": [
    "import treePlotter\n",
    "treePlotter.createPlot(lensesTree)"
   ]
  },
  {
   "cell_type": "code",
   "execution_count": 1,
   "metadata": {},
   "outputs": [
    {
     "ename": "NameError",
     "evalue": "name 'lensesTree1' is not defined",
     "output_type": "error",
     "traceback": [
      "\u001b[1;31m---------------------------------------------------------------------------\u001b[0m",
      "\u001b[1;31mNameError\u001b[0m                                 Traceback (most recent call last)",
      "Cell \u001b[1;32mIn [1], line 2\u001b[0m\n\u001b[0;32m      1\u001b[0m \u001b[38;5;28;01mimport\u001b[39;00m \u001b[38;5;21;01mtreePlotter\u001b[39;00m\n\u001b[1;32m----> 2\u001b[0m treePlotter\u001b[38;5;241m.\u001b[39mcreatePlot(\u001b[43mlensesTree1\u001b[49m)\n",
      "\u001b[1;31mNameError\u001b[0m: name 'lensesTree1' is not defined"
     ]
    }
   ],
   "source": [
    "import treePlotter\n",
    "treePlotter.createPlot(lensesTree1)"
   ]
  },
  {
   "cell_type": "code",
   "execution_count": 11,
   "metadata": {},
   "outputs": [],
   "source": [
    "import treePlotter\n",
    "treePlotter.createPlot(lensesTree2)"
   ]
  }
 ],
 "metadata": {
  "kernelspec": {
   "display_name": "Python 3 (ipykernel)",
   "language": "python",
   "name": "python3"
  },
  "language_info": {
   "codemirror_mode": {
    "name": "ipython",
    "version": 3
   },
   "file_extension": ".py",
   "mimetype": "text/x-python",
   "name": "python",
   "nbconvert_exporter": "python",
   "pygments_lexer": "ipython3",
   "version": "3.10.7"
  }
 },
 "nbformat": 4,
 "nbformat_minor": 2
}
